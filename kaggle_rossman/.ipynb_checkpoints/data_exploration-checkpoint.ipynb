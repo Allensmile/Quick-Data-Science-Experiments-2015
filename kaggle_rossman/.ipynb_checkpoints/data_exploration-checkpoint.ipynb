{
 "cells": [
  {
   "cell_type": "code",
   "execution_count": 1,
   "metadata": {
    "collapsed": true
   },
   "outputs": [],
   "source": [
    "import numpy as np\n",
    "import pandas as pd\n",
    "import matplotlib.pyplot as plt\n",
    "%matplotlib inline"
   ]
  },
  {
   "cell_type": "code",
   "execution_count": 45,
   "metadata": {
    "collapsed": false
   },
   "outputs": [],
   "source": [
    "sales = pd.read_csv(\"data/train.csv\")\n",
    "stores = pd.read_csv(\"data/store.csv\")\n",
    "def transformStoreType(x):\n",
    "    if x == \"a\":\n",
    "        return 1\n",
    "    if x == \"b\":\n",
    "        return 2\n",
    "    if x == \"c\":\n",
    "        return 3\n",
    "    return 4\n",
    "def transformAssortment(x):\n",
    "    if x == \"a\":\n",
    "        return 1\n",
    "    if x == \"b\":\n",
    "        return 2\n",
    "    return 3\n",
    "stores['StoreType'] = stores['StoreType'].apply(transformStoreType)\n",
    "stores['Assortment'] = stores['Assortment'].apply(transformAssortment)"
   ]
  },
  {
   "cell_type": "code",
   "execution_count": 46,
   "metadata": {
    "collapsed": false
   },
   "outputs": [
    {
     "data": {
      "text/html": [
       "<div>\n",
       "<table border=\"1\" class=\"dataframe\">\n",
       "  <thead>\n",
       "    <tr style=\"text-align: right;\">\n",
       "      <th></th>\n",
       "      <th>Store</th>\n",
       "      <th>DayOfWeek</th>\n",
       "      <th>Date</th>\n",
       "      <th>Sales</th>\n",
       "      <th>Customers</th>\n",
       "      <th>Open</th>\n",
       "      <th>Promo</th>\n",
       "      <th>StateHoliday</th>\n",
       "      <th>SchoolHoliday</th>\n",
       "    </tr>\n",
       "  </thead>\n",
       "  <tbody>\n",
       "    <tr>\n",
       "      <th>558204</th>\n",
       "      <td>375</td>\n",
       "      <td>7</td>\n",
       "      <td>2014-02-16</td>\n",
       "      <td>0</td>\n",
       "      <td>0</td>\n",
       "      <td>0</td>\n",
       "      <td>0</td>\n",
       "      <td>0</td>\n",
       "      <td>0</td>\n",
       "    </tr>\n",
       "    <tr>\n",
       "      <th>706613</th>\n",
       "      <td>489</td>\n",
       "      <td>7</td>\n",
       "      <td>2013-10-06</td>\n",
       "      <td>0</td>\n",
       "      <td>0</td>\n",
       "      <td>0</td>\n",
       "      <td>0</td>\n",
       "      <td>0</td>\n",
       "      <td>0</td>\n",
       "    </tr>\n",
       "    <tr>\n",
       "      <th>225668</th>\n",
       "      <td>439</td>\n",
       "      <td>6</td>\n",
       "      <td>2015-01-10</td>\n",
       "      <td>5908</td>\n",
       "      <td>729</td>\n",
       "      <td>1</td>\n",
       "      <td>0</td>\n",
       "      <td>0</td>\n",
       "      <td>0</td>\n",
       "    </tr>\n",
       "    <tr>\n",
       "      <th>786506</th>\n",
       "      <td>102</td>\n",
       "      <td>5</td>\n",
       "      <td>2013-07-26</td>\n",
       "      <td>4307</td>\n",
       "      <td>763</td>\n",
       "      <td>1</td>\n",
       "      <td>0</td>\n",
       "      <td>0</td>\n",
       "      <td>1</td>\n",
       "    </tr>\n",
       "    <tr>\n",
       "      <th>843119</th>\n",
       "      <td>965</td>\n",
       "      <td>4</td>\n",
       "      <td>2013-06-06</td>\n",
       "      <td>8130</td>\n",
       "      <td>883</td>\n",
       "      <td>1</td>\n",
       "      <td>1</td>\n",
       "      <td>0</td>\n",
       "      <td>0</td>\n",
       "    </tr>\n",
       "  </tbody>\n",
       "</table>\n",
       "</div>"
      ],
      "text/plain": [
       "        Store  DayOfWeek        Date  Sales  Customers  Open  Promo  \\\n",
       "558204    375          7  2014-02-16      0          0     0      0   \n",
       "706613    489          7  2013-10-06      0          0     0      0   \n",
       "225668    439          6  2015-01-10   5908        729     1      0   \n",
       "786506    102          5  2013-07-26   4307        763     1      0   \n",
       "843119    965          4  2013-06-06   8130        883     1      1   \n",
       "\n",
       "       StateHoliday  SchoolHoliday  \n",
       "558204            0              0  \n",
       "706613            0              0  \n",
       "225668            0              0  \n",
       "786506            0              1  \n",
       "843119            0              0  "
      ]
     },
     "execution_count": 46,
     "metadata": {},
     "output_type": "execute_result"
    }
   ],
   "source": [
    "sales.sample(5)"
   ]
  },
  {
   "cell_type": "code",
   "execution_count": 47,
   "metadata": {
    "collapsed": false
   },
   "outputs": [
    {
     "data": {
      "text/html": [
       "<div>\n",
       "<table border=\"1\" class=\"dataframe\">\n",
       "  <thead>\n",
       "    <tr style=\"text-align: right;\">\n",
       "      <th></th>\n",
       "      <th>Store</th>\n",
       "      <th>StoreType</th>\n",
       "      <th>Assortment</th>\n",
       "      <th>CompetitionDistance</th>\n",
       "      <th>CompetitionOpenSinceMonth</th>\n",
       "      <th>CompetitionOpenSinceYear</th>\n",
       "      <th>Promo2</th>\n",
       "      <th>Promo2SinceWeek</th>\n",
       "      <th>Promo2SinceYear</th>\n",
       "      <th>PromoInterval</th>\n",
       "    </tr>\n",
       "  </thead>\n",
       "  <tbody>\n",
       "    <tr>\n",
       "      <th>70</th>\n",
       "      <td>71</td>\n",
       "      <td>1</td>\n",
       "      <td>1</td>\n",
       "      <td>17500</td>\n",
       "      <td>8</td>\n",
       "      <td>2008</td>\n",
       "      <td>1</td>\n",
       "      <td>37</td>\n",
       "      <td>2009</td>\n",
       "      <td>Mar,Jun,Sept,Dec</td>\n",
       "    </tr>\n",
       "    <tr>\n",
       "      <th>27</th>\n",
       "      <td>28</td>\n",
       "      <td>1</td>\n",
       "      <td>1</td>\n",
       "      <td>1200</td>\n",
       "      <td>10</td>\n",
       "      <td>2014</td>\n",
       "      <td>1</td>\n",
       "      <td>6</td>\n",
       "      <td>2015</td>\n",
       "      <td>Mar,Jun,Sept,Dec</td>\n",
       "    </tr>\n",
       "    <tr>\n",
       "      <th>550</th>\n",
       "      <td>551</td>\n",
       "      <td>1</td>\n",
       "      <td>3</td>\n",
       "      <td>2190</td>\n",
       "      <td>9</td>\n",
       "      <td>2013</td>\n",
       "      <td>0</td>\n",
       "      <td>NaN</td>\n",
       "      <td>NaN</td>\n",
       "      <td>NaN</td>\n",
       "    </tr>\n",
       "    <tr>\n",
       "      <th>667</th>\n",
       "      <td>668</td>\n",
       "      <td>3</td>\n",
       "      <td>1</td>\n",
       "      <td>1270</td>\n",
       "      <td>9</td>\n",
       "      <td>2010</td>\n",
       "      <td>0</td>\n",
       "      <td>NaN</td>\n",
       "      <td>NaN</td>\n",
       "      <td>NaN</td>\n",
       "    </tr>\n",
       "    <tr>\n",
       "      <th>805</th>\n",
       "      <td>806</td>\n",
       "      <td>4</td>\n",
       "      <td>1</td>\n",
       "      <td>260</td>\n",
       "      <td>NaN</td>\n",
       "      <td>NaN</td>\n",
       "      <td>1</td>\n",
       "      <td>44</td>\n",
       "      <td>2010</td>\n",
       "      <td>Feb,May,Aug,Nov</td>\n",
       "    </tr>\n",
       "  </tbody>\n",
       "</table>\n",
       "</div>"
      ],
      "text/plain": [
       "     Store  StoreType  Assortment  CompetitionDistance  \\\n",
       "70      71          1           1                17500   \n",
       "27      28          1           1                 1200   \n",
       "550    551          1           3                 2190   \n",
       "667    668          3           1                 1270   \n",
       "805    806          4           1                  260   \n",
       "\n",
       "     CompetitionOpenSinceMonth  CompetitionOpenSinceYear  Promo2  \\\n",
       "70                           8                      2008       1   \n",
       "27                          10                      2014       1   \n",
       "550                          9                      2013       0   \n",
       "667                          9                      2010       0   \n",
       "805                        NaN                       NaN       1   \n",
       "\n",
       "     Promo2SinceWeek  Promo2SinceYear     PromoInterval  \n",
       "70                37             2009  Mar,Jun,Sept,Dec  \n",
       "27                 6             2015  Mar,Jun,Sept,Dec  \n",
       "550              NaN              NaN               NaN  \n",
       "667              NaN              NaN               NaN  \n",
       "805               44             2010   Feb,May,Aug,Nov  "
      ]
     },
     "execution_count": 47,
     "metadata": {},
     "output_type": "execute_result"
    }
   ],
   "source": [
    "stores.sample(5)"
   ]
  },
  {
   "cell_type": "code",
   "execution_count": 48,
   "metadata": {
    "collapsed": false
   },
   "outputs": [
    {
     "data": {
      "text/html": [
       "<div>\n",
       "<table border=\"1\" class=\"dataframe\">\n",
       "  <thead>\n",
       "    <tr style=\"text-align: right;\">\n",
       "      <th></th>\n",
       "      <th>Store</th>\n",
       "      <th>DayOfWeek</th>\n",
       "      <th>Sales</th>\n",
       "      <th>Customers</th>\n",
       "      <th>Open</th>\n",
       "      <th>Promo</th>\n",
       "      <th>SchoolHoliday</th>\n",
       "    </tr>\n",
       "  </thead>\n",
       "  <tbody>\n",
       "    <tr>\n",
       "      <th>count</th>\n",
       "      <td>1017209.000000</td>\n",
       "      <td>1017209.000000</td>\n",
       "      <td>1017209.000000</td>\n",
       "      <td>1017209.000000</td>\n",
       "      <td>1017209.000000</td>\n",
       "      <td>1017209.000000</td>\n",
       "      <td>1017209.000000</td>\n",
       "    </tr>\n",
       "    <tr>\n",
       "      <th>mean</th>\n",
       "      <td>558.429727</td>\n",
       "      <td>3.998341</td>\n",
       "      <td>5773.818972</td>\n",
       "      <td>633.145946</td>\n",
       "      <td>0.830107</td>\n",
       "      <td>0.381515</td>\n",
       "      <td>0.178647</td>\n",
       "    </tr>\n",
       "    <tr>\n",
       "      <th>std</th>\n",
       "      <td>321.908651</td>\n",
       "      <td>1.997391</td>\n",
       "      <td>3849.926175</td>\n",
       "      <td>464.411734</td>\n",
       "      <td>0.375539</td>\n",
       "      <td>0.485759</td>\n",
       "      <td>0.383056</td>\n",
       "    </tr>\n",
       "    <tr>\n",
       "      <th>min</th>\n",
       "      <td>1.000000</td>\n",
       "      <td>1.000000</td>\n",
       "      <td>0.000000</td>\n",
       "      <td>0.000000</td>\n",
       "      <td>0.000000</td>\n",
       "      <td>0.000000</td>\n",
       "      <td>0.000000</td>\n",
       "    </tr>\n",
       "    <tr>\n",
       "      <th>25%</th>\n",
       "      <td>280.000000</td>\n",
       "      <td>2.000000</td>\n",
       "      <td>3727.000000</td>\n",
       "      <td>405.000000</td>\n",
       "      <td>1.000000</td>\n",
       "      <td>0.000000</td>\n",
       "      <td>0.000000</td>\n",
       "    </tr>\n",
       "    <tr>\n",
       "      <th>50%</th>\n",
       "      <td>558.000000</td>\n",
       "      <td>4.000000</td>\n",
       "      <td>5744.000000</td>\n",
       "      <td>609.000000</td>\n",
       "      <td>1.000000</td>\n",
       "      <td>0.000000</td>\n",
       "      <td>0.000000</td>\n",
       "    </tr>\n",
       "    <tr>\n",
       "      <th>75%</th>\n",
       "      <td>838.000000</td>\n",
       "      <td>6.000000</td>\n",
       "      <td>7856.000000</td>\n",
       "      <td>837.000000</td>\n",
       "      <td>1.000000</td>\n",
       "      <td>1.000000</td>\n",
       "      <td>0.000000</td>\n",
       "    </tr>\n",
       "    <tr>\n",
       "      <th>max</th>\n",
       "      <td>1115.000000</td>\n",
       "      <td>7.000000</td>\n",
       "      <td>41551.000000</td>\n",
       "      <td>7388.000000</td>\n",
       "      <td>1.000000</td>\n",
       "      <td>1.000000</td>\n",
       "      <td>1.000000</td>\n",
       "    </tr>\n",
       "  </tbody>\n",
       "</table>\n",
       "</div>"
      ],
      "text/plain": [
       "                Store       DayOfWeek           Sales       Customers  \\\n",
       "count  1017209.000000  1017209.000000  1017209.000000  1017209.000000   \n",
       "mean       558.429727        3.998341     5773.818972      633.145946   \n",
       "std        321.908651        1.997391     3849.926175      464.411734   \n",
       "min          1.000000        1.000000        0.000000        0.000000   \n",
       "25%        280.000000        2.000000     3727.000000      405.000000   \n",
       "50%        558.000000        4.000000     5744.000000      609.000000   \n",
       "75%        838.000000        6.000000     7856.000000      837.000000   \n",
       "max       1115.000000        7.000000    41551.000000     7388.000000   \n",
       "\n",
       "                 Open           Promo   SchoolHoliday  \n",
       "count  1017209.000000  1017209.000000  1017209.000000  \n",
       "mean         0.830107        0.381515        0.178647  \n",
       "std          0.375539        0.485759        0.383056  \n",
       "min          0.000000        0.000000        0.000000  \n",
       "25%          1.000000        0.000000        0.000000  \n",
       "50%          1.000000        0.000000        0.000000  \n",
       "75%          1.000000        1.000000        0.000000  \n",
       "max          1.000000        1.000000        1.000000  "
      ]
     },
     "execution_count": 48,
     "metadata": {},
     "output_type": "execute_result"
    }
   ],
   "source": [
    "sales.describe()"
   ]
  },
  {
   "cell_type": "code",
   "execution_count": 49,
   "metadata": {
    "collapsed": false
   },
   "outputs": [
    {
     "data": {
      "text/html": [
       "<div>\n",
       "<table border=\"1\" class=\"dataframe\">\n",
       "  <thead>\n",
       "    <tr style=\"text-align: right;\">\n",
       "      <th></th>\n",
       "      <th>Store</th>\n",
       "      <th>StoreType</th>\n",
       "      <th>Assortment</th>\n",
       "      <th>CompetitionDistance</th>\n",
       "      <th>CompetitionOpenSinceMonth</th>\n",
       "      <th>CompetitionOpenSinceYear</th>\n",
       "      <th>Promo2</th>\n",
       "      <th>Promo2SinceWeek</th>\n",
       "      <th>Promo2SinceYear</th>\n",
       "    </tr>\n",
       "  </thead>\n",
       "  <tbody>\n",
       "    <tr>\n",
       "      <th>count</th>\n",
       "      <td>1115.00000</td>\n",
       "      <td>1115.000000</td>\n",
       "      <td>1115.000000</td>\n",
       "      <td>1112.000000</td>\n",
       "      <td>761.000000</td>\n",
       "      <td>761.000000</td>\n",
       "      <td>1115.000000</td>\n",
       "      <td>571.000000</td>\n",
       "      <td>571.000000</td>\n",
       "    </tr>\n",
       "    <tr>\n",
       "      <th>mean</th>\n",
       "      <td>558.00000</td>\n",
       "      <td>2.217040</td>\n",
       "      <td>1.928251</td>\n",
       "      <td>5404.901079</td>\n",
       "      <td>7.224704</td>\n",
       "      <td>2008.668857</td>\n",
       "      <td>0.512108</td>\n",
       "      <td>23.595447</td>\n",
       "      <td>2011.763573</td>\n",
       "    </tr>\n",
       "    <tr>\n",
       "      <th>std</th>\n",
       "      <td>322.01708</td>\n",
       "      <td>1.369544</td>\n",
       "      <td>0.993814</td>\n",
       "      <td>7663.174720</td>\n",
       "      <td>3.212348</td>\n",
       "      <td>6.195983</td>\n",
       "      <td>0.500078</td>\n",
       "      <td>14.141984</td>\n",
       "      <td>1.674935</td>\n",
       "    </tr>\n",
       "    <tr>\n",
       "      <th>min</th>\n",
       "      <td>1.00000</td>\n",
       "      <td>1.000000</td>\n",
       "      <td>1.000000</td>\n",
       "      <td>20.000000</td>\n",
       "      <td>1.000000</td>\n",
       "      <td>1900.000000</td>\n",
       "      <td>0.000000</td>\n",
       "      <td>1.000000</td>\n",
       "      <td>2009.000000</td>\n",
       "    </tr>\n",
       "    <tr>\n",
       "      <th>25%</th>\n",
       "      <td>279.50000</td>\n",
       "      <td>1.000000</td>\n",
       "      <td>1.000000</td>\n",
       "      <td>717.500000</td>\n",
       "      <td>4.000000</td>\n",
       "      <td>2006.000000</td>\n",
       "      <td>0.000000</td>\n",
       "      <td>13.000000</td>\n",
       "      <td>2011.000000</td>\n",
       "    </tr>\n",
       "    <tr>\n",
       "      <th>50%</th>\n",
       "      <td>558.00000</td>\n",
       "      <td>1.000000</td>\n",
       "      <td>1.000000</td>\n",
       "      <td>2325.000000</td>\n",
       "      <td>8.000000</td>\n",
       "      <td>2010.000000</td>\n",
       "      <td>1.000000</td>\n",
       "      <td>22.000000</td>\n",
       "      <td>2012.000000</td>\n",
       "    </tr>\n",
       "    <tr>\n",
       "      <th>75%</th>\n",
       "      <td>836.50000</td>\n",
       "      <td>4.000000</td>\n",
       "      <td>3.000000</td>\n",
       "      <td>6882.500000</td>\n",
       "      <td>10.000000</td>\n",
       "      <td>2013.000000</td>\n",
       "      <td>1.000000</td>\n",
       "      <td>37.000000</td>\n",
       "      <td>2013.000000</td>\n",
       "    </tr>\n",
       "    <tr>\n",
       "      <th>max</th>\n",
       "      <td>1115.00000</td>\n",
       "      <td>4.000000</td>\n",
       "      <td>3.000000</td>\n",
       "      <td>75860.000000</td>\n",
       "      <td>12.000000</td>\n",
       "      <td>2015.000000</td>\n",
       "      <td>1.000000</td>\n",
       "      <td>50.000000</td>\n",
       "      <td>2015.000000</td>\n",
       "    </tr>\n",
       "  </tbody>\n",
       "</table>\n",
       "</div>"
      ],
      "text/plain": [
       "            Store    StoreType   Assortment  CompetitionDistance  \\\n",
       "count  1115.00000  1115.000000  1115.000000          1112.000000   \n",
       "mean    558.00000     2.217040     1.928251          5404.901079   \n",
       "std     322.01708     1.369544     0.993814          7663.174720   \n",
       "min       1.00000     1.000000     1.000000            20.000000   \n",
       "25%     279.50000     1.000000     1.000000           717.500000   \n",
       "50%     558.00000     1.000000     1.000000          2325.000000   \n",
       "75%     836.50000     4.000000     3.000000          6882.500000   \n",
       "max    1115.00000     4.000000     3.000000         75860.000000   \n",
       "\n",
       "       CompetitionOpenSinceMonth  CompetitionOpenSinceYear       Promo2  \\\n",
       "count                 761.000000                761.000000  1115.000000   \n",
       "mean                    7.224704               2008.668857     0.512108   \n",
       "std                     3.212348                  6.195983     0.500078   \n",
       "min                     1.000000               1900.000000     0.000000   \n",
       "25%                     4.000000               2006.000000     0.000000   \n",
       "50%                     8.000000               2010.000000     1.000000   \n",
       "75%                    10.000000               2013.000000     1.000000   \n",
       "max                    12.000000               2015.000000     1.000000   \n",
       "\n",
       "       Promo2SinceWeek  Promo2SinceYear  \n",
       "count       571.000000       571.000000  \n",
       "mean         23.595447      2011.763573  \n",
       "std          14.141984         1.674935  \n",
       "min           1.000000      2009.000000  \n",
       "25%          13.000000      2011.000000  \n",
       "50%          22.000000      2012.000000  \n",
       "75%          37.000000      2013.000000  \n",
       "max          50.000000      2015.000000  "
      ]
     },
     "execution_count": 49,
     "metadata": {},
     "output_type": "execute_result"
    }
   ],
   "source": [
    "stores.describe()"
   ]
  },
  {
   "cell_type": "code",
   "execution_count": 50,
   "metadata": {
    "collapsed": false
   },
   "outputs": [],
   "source": [
    "combined_tables = sales.merge(stores, on='Store', how='left')\n"
   ]
  },
  {
   "cell_type": "code",
   "execution_count": 51,
   "metadata": {
    "collapsed": false
   },
   "outputs": [
    {
     "data": {
      "text/html": [
       "<div>\n",
       "<table border=\"1\" class=\"dataframe\">\n",
       "  <thead>\n",
       "    <tr style=\"text-align: right;\">\n",
       "      <th></th>\n",
       "      <th>Store</th>\n",
       "      <th>DayOfWeek</th>\n",
       "      <th>Date</th>\n",
       "      <th>Sales</th>\n",
       "      <th>Customers</th>\n",
       "      <th>Open</th>\n",
       "      <th>Promo</th>\n",
       "      <th>StateHoliday</th>\n",
       "      <th>SchoolHoliday</th>\n",
       "      <th>StoreType</th>\n",
       "      <th>Assortment</th>\n",
       "      <th>CompetitionDistance</th>\n",
       "      <th>CompetitionOpenSinceMonth</th>\n",
       "      <th>CompetitionOpenSinceYear</th>\n",
       "      <th>Promo2</th>\n",
       "      <th>Promo2SinceWeek</th>\n",
       "      <th>Promo2SinceYear</th>\n",
       "      <th>PromoInterval</th>\n",
       "    </tr>\n",
       "  </thead>\n",
       "  <tbody>\n",
       "    <tr>\n",
       "      <th>791211</th>\n",
       "      <td>347</td>\n",
       "      <td>1</td>\n",
       "      <td>2013-07-22</td>\n",
       "      <td>4261</td>\n",
       "      <td>363</td>\n",
       "      <td>1</td>\n",
       "      <td>0</td>\n",
       "      <td>0</td>\n",
       "      <td>0</td>\n",
       "      <td>4</td>\n",
       "      <td>3</td>\n",
       "      <td>9360</td>\n",
       "      <td>7</td>\n",
       "      <td>2013</td>\n",
       "      <td>1</td>\n",
       "      <td>22</td>\n",
       "      <td>2012</td>\n",
       "      <td>Mar,Jun,Sept,Dec</td>\n",
       "    </tr>\n",
       "    <tr>\n",
       "      <th>507692</th>\n",
       "      <td>38</td>\n",
       "      <td>3</td>\n",
       "      <td>2014-04-02</td>\n",
       "      <td>6466</td>\n",
       "      <td>550</td>\n",
       "      <td>1</td>\n",
       "      <td>1</td>\n",
       "      <td>0</td>\n",
       "      <td>0</td>\n",
       "      <td>4</td>\n",
       "      <td>1</td>\n",
       "      <td>1090</td>\n",
       "      <td>4</td>\n",
       "      <td>2007</td>\n",
       "      <td>0</td>\n",
       "      <td>NaN</td>\n",
       "      <td>NaN</td>\n",
       "      <td>NaN</td>\n",
       "    </tr>\n",
       "    <tr>\n",
       "      <th>973334</th>\n",
       "      <td>725</td>\n",
       "      <td>6</td>\n",
       "      <td>2013-02-09</td>\n",
       "      <td>5166</td>\n",
       "      <td>550</td>\n",
       "      <td>1</td>\n",
       "      <td>0</td>\n",
       "      <td>0</td>\n",
       "      <td>0</td>\n",
       "      <td>4</td>\n",
       "      <td>3</td>\n",
       "      <td>17540</td>\n",
       "      <td>6</td>\n",
       "      <td>2012</td>\n",
       "      <td>0</td>\n",
       "      <td>NaN</td>\n",
       "      <td>NaN</td>\n",
       "      <td>NaN</td>\n",
       "    </tr>\n",
       "    <tr>\n",
       "      <th>666120</th>\n",
       "      <td>136</td>\n",
       "      <td>1</td>\n",
       "      <td>2013-11-11</td>\n",
       "      <td>3806</td>\n",
       "      <td>345</td>\n",
       "      <td>1</td>\n",
       "      <td>0</td>\n",
       "      <td>0</td>\n",
       "      <td>0</td>\n",
       "      <td>1</td>\n",
       "      <td>3</td>\n",
       "      <td>2200</td>\n",
       "      <td>12</td>\n",
       "      <td>2010</td>\n",
       "      <td>1</td>\n",
       "      <td>22</td>\n",
       "      <td>2012</td>\n",
       "      <td>Feb,May,Aug,Nov</td>\n",
       "    </tr>\n",
       "    <tr>\n",
       "      <th>621852</th>\n",
       "      <td>468</td>\n",
       "      <td>6</td>\n",
       "      <td>2013-12-21</td>\n",
       "      <td>19537</td>\n",
       "      <td>2088</td>\n",
       "      <td>1</td>\n",
       "      <td>0</td>\n",
       "      <td>0</td>\n",
       "      <td>0</td>\n",
       "      <td>3</td>\n",
       "      <td>3</td>\n",
       "      <td>5260</td>\n",
       "      <td>9</td>\n",
       "      <td>2012</td>\n",
       "      <td>0</td>\n",
       "      <td>NaN</td>\n",
       "      <td>NaN</td>\n",
       "      <td>NaN</td>\n",
       "    </tr>\n",
       "    <tr>\n",
       "      <th>662205</th>\n",
       "      <td>681</td>\n",
       "      <td>5</td>\n",
       "      <td>2013-11-15</td>\n",
       "      <td>2522</td>\n",
       "      <td>443</td>\n",
       "      <td>1</td>\n",
       "      <td>0</td>\n",
       "      <td>0</td>\n",
       "      <td>0</td>\n",
       "      <td>1</td>\n",
       "      <td>3</td>\n",
       "      <td>620</td>\n",
       "      <td>NaN</td>\n",
       "      <td>NaN</td>\n",
       "      <td>1</td>\n",
       "      <td>1</td>\n",
       "      <td>2014</td>\n",
       "      <td>Mar,Jun,Sept,Dec</td>\n",
       "    </tr>\n",
       "    <tr>\n",
       "      <th>198561</th>\n",
       "      <td>92</td>\n",
       "      <td>2</td>\n",
       "      <td>2015-02-03</td>\n",
       "      <td>8095</td>\n",
       "      <td>635</td>\n",
       "      <td>1</td>\n",
       "      <td>1</td>\n",
       "      <td>0</td>\n",
       "      <td>0</td>\n",
       "      <td>3</td>\n",
       "      <td>1</td>\n",
       "      <td>240</td>\n",
       "      <td>NaN</td>\n",
       "      <td>NaN</td>\n",
       "      <td>1</td>\n",
       "      <td>45</td>\n",
       "      <td>2009</td>\n",
       "      <td>Feb,May,Aug,Nov</td>\n",
       "    </tr>\n",
       "    <tr>\n",
       "      <th>484433</th>\n",
       "      <td>194</td>\n",
       "      <td>3</td>\n",
       "      <td>2014-04-23</td>\n",
       "      <td>3333</td>\n",
       "      <td>339</td>\n",
       "      <td>1</td>\n",
       "      <td>0</td>\n",
       "      <td>0</td>\n",
       "      <td>1</td>\n",
       "      <td>4</td>\n",
       "      <td>3</td>\n",
       "      <td>16970</td>\n",
       "      <td>NaN</td>\n",
       "      <td>NaN</td>\n",
       "      <td>1</td>\n",
       "      <td>5</td>\n",
       "      <td>2013</td>\n",
       "      <td>Feb,May,Aug,Nov</td>\n",
       "    </tr>\n",
       "    <tr>\n",
       "      <th>135173</th>\n",
       "      <td>259</td>\n",
       "      <td>3</td>\n",
       "      <td>2015-04-01</td>\n",
       "      <td>14379</td>\n",
       "      <td>2613</td>\n",
       "      <td>1</td>\n",
       "      <td>1</td>\n",
       "      <td>0</td>\n",
       "      <td>1</td>\n",
       "      <td>2</td>\n",
       "      <td>2</td>\n",
       "      <td>210</td>\n",
       "      <td>NaN</td>\n",
       "      <td>NaN</td>\n",
       "      <td>0</td>\n",
       "      <td>NaN</td>\n",
       "      <td>NaN</td>\n",
       "      <td>NaN</td>\n",
       "    </tr>\n",
       "    <tr>\n",
       "      <th>674144</th>\n",
       "      <td>355</td>\n",
       "      <td>1</td>\n",
       "      <td>2013-11-04</td>\n",
       "      <td>9114</td>\n",
       "      <td>1204</td>\n",
       "      <td>1</td>\n",
       "      <td>1</td>\n",
       "      <td>0</td>\n",
       "      <td>0</td>\n",
       "      <td>1</td>\n",
       "      <td>3</td>\n",
       "      <td>9720</td>\n",
       "      <td>8</td>\n",
       "      <td>2013</td>\n",
       "      <td>0</td>\n",
       "      <td>NaN</td>\n",
       "      <td>NaN</td>\n",
       "      <td>NaN</td>\n",
       "    </tr>\n",
       "  </tbody>\n",
       "</table>\n",
       "</div>"
      ],
      "text/plain": [
       "        Store  DayOfWeek        Date  Sales  Customers  Open  Promo  \\\n",
       "791211    347          1  2013-07-22   4261        363     1      0   \n",
       "507692     38          3  2014-04-02   6466        550     1      1   \n",
       "973334    725          6  2013-02-09   5166        550     1      0   \n",
       "666120    136          1  2013-11-11   3806        345     1      0   \n",
       "621852    468          6  2013-12-21  19537       2088     1      0   \n",
       "662205    681          5  2013-11-15   2522        443     1      0   \n",
       "198561     92          2  2015-02-03   8095        635     1      1   \n",
       "484433    194          3  2014-04-23   3333        339     1      0   \n",
       "135173    259          3  2015-04-01  14379       2613     1      1   \n",
       "674144    355          1  2013-11-04   9114       1204     1      1   \n",
       "\n",
       "       StateHoliday  SchoolHoliday  StoreType  Assortment  \\\n",
       "791211            0              0          4           3   \n",
       "507692            0              0          4           1   \n",
       "973334            0              0          4           3   \n",
       "666120            0              0          1           3   \n",
       "621852            0              0          3           3   \n",
       "662205            0              0          1           3   \n",
       "198561            0              0          3           1   \n",
       "484433            0              1          4           3   \n",
       "135173            0              1          2           2   \n",
       "674144            0              0          1           3   \n",
       "\n",
       "        CompetitionDistance  CompetitionOpenSinceMonth  \\\n",
       "791211                 9360                          7   \n",
       "507692                 1090                          4   \n",
       "973334                17540                          6   \n",
       "666120                 2200                         12   \n",
       "621852                 5260                          9   \n",
       "662205                  620                        NaN   \n",
       "198561                  240                        NaN   \n",
       "484433                16970                        NaN   \n",
       "135173                  210                        NaN   \n",
       "674144                 9720                          8   \n",
       "\n",
       "        CompetitionOpenSinceYear  Promo2  Promo2SinceWeek  Promo2SinceYear  \\\n",
       "791211                      2013       1               22             2012   \n",
       "507692                      2007       0              NaN              NaN   \n",
       "973334                      2012       0              NaN              NaN   \n",
       "666120                      2010       1               22             2012   \n",
       "621852                      2012       0              NaN              NaN   \n",
       "662205                       NaN       1                1             2014   \n",
       "198561                       NaN       1               45             2009   \n",
       "484433                       NaN       1                5             2013   \n",
       "135173                       NaN       0              NaN              NaN   \n",
       "674144                      2013       0              NaN              NaN   \n",
       "\n",
       "           PromoInterval  \n",
       "791211  Mar,Jun,Sept,Dec  \n",
       "507692               NaN  \n",
       "973334               NaN  \n",
       "666120   Feb,May,Aug,Nov  \n",
       "621852               NaN  \n",
       "662205  Mar,Jun,Sept,Dec  \n",
       "198561   Feb,May,Aug,Nov  \n",
       "484433   Feb,May,Aug,Nov  \n",
       "135173               NaN  \n",
       "674144               NaN  "
      ]
     },
     "execution_count": 51,
     "metadata": {},
     "output_type": "execute_result"
    }
   ],
   "source": [
    "combined_tables.sample(10)"
   ]
  },
  {
   "cell_type": "code",
   "execution_count": 52,
   "metadata": {
    "collapsed": true
   },
   "outputs": [],
   "source": [
    "# now to look at data"
   ]
  },
  {
   "cell_type": "code",
   "execution_count": 53,
   "metadata": {
    "collapsed": false
   },
   "outputs": [],
   "source": [
    "small_table = combined_tables.sample(5000)"
   ]
  },
  {
   "cell_type": "code",
   "execution_count": 54,
   "metadata": {
    "collapsed": false
   },
   "outputs": [
    {
     "data": {
      "text/html": [
       "<div>\n",
       "<table border=\"1\" class=\"dataframe\">\n",
       "  <thead>\n",
       "    <tr style=\"text-align: right;\">\n",
       "      <th></th>\n",
       "      <th>Store</th>\n",
       "      <th>DayOfWeek</th>\n",
       "      <th>Date</th>\n",
       "      <th>Sales</th>\n",
       "      <th>Customers</th>\n",
       "      <th>Open</th>\n",
       "      <th>Promo</th>\n",
       "      <th>StateHoliday</th>\n",
       "      <th>SchoolHoliday</th>\n",
       "      <th>StoreType</th>\n",
       "      <th>Assortment</th>\n",
       "      <th>CompetitionDistance</th>\n",
       "      <th>CompetitionOpenSinceMonth</th>\n",
       "      <th>CompetitionOpenSinceYear</th>\n",
       "      <th>Promo2</th>\n",
       "      <th>Promo2SinceWeek</th>\n",
       "      <th>Promo2SinceYear</th>\n",
       "      <th>PromoInterval</th>\n",
       "    </tr>\n",
       "  </thead>\n",
       "  <tbody>\n",
       "    <tr>\n",
       "      <th>682864</th>\n",
       "      <td>155</td>\n",
       "      <td>7</td>\n",
       "      <td>2013-10-27</td>\n",
       "      <td>0</td>\n",
       "      <td>0</td>\n",
       "      <td>0</td>\n",
       "      <td>0</td>\n",
       "      <td>0</td>\n",
       "      <td>0</td>\n",
       "      <td>4</td>\n",
       "      <td>1</td>\n",
       "      <td>3050</td>\n",
       "      <td>NaN</td>\n",
       "      <td>NaN</td>\n",
       "      <td>1</td>\n",
       "      <td>35</td>\n",
       "      <td>2010</td>\n",
       "      <td>Jan,Apr,Jul,Oct</td>\n",
       "    </tr>\n",
       "    <tr>\n",
       "      <th>759778</th>\n",
       "      <td>134</td>\n",
       "      <td>1</td>\n",
       "      <td>2013-08-19</td>\n",
       "      <td>4874</td>\n",
       "      <td>545</td>\n",
       "      <td>1</td>\n",
       "      <td>0</td>\n",
       "      <td>0</td>\n",
       "      <td>0</td>\n",
       "      <td>1</td>\n",
       "      <td>1</td>\n",
       "      <td>1200</td>\n",
       "      <td>9</td>\n",
       "      <td>2008</td>\n",
       "      <td>0</td>\n",
       "      <td>NaN</td>\n",
       "      <td>NaN</td>\n",
       "      <td>NaN</td>\n",
       "    </tr>\n",
       "  </tbody>\n",
       "</table>\n",
       "</div>"
      ],
      "text/plain": [
       "        Store  DayOfWeek        Date  Sales  Customers  Open  Promo  \\\n",
       "682864    155          7  2013-10-27      0          0     0      0   \n",
       "759778    134          1  2013-08-19   4874        545     1      0   \n",
       "\n",
       "       StateHoliday  SchoolHoliday  StoreType  Assortment  \\\n",
       "682864            0              0          4           1   \n",
       "759778            0              0          1           1   \n",
       "\n",
       "        CompetitionDistance  CompetitionOpenSinceMonth  \\\n",
       "682864                 3050                        NaN   \n",
       "759778                 1200                          9   \n",
       "\n",
       "        CompetitionOpenSinceYear  Promo2  Promo2SinceWeek  Promo2SinceYear  \\\n",
       "682864                       NaN       1               35             2010   \n",
       "759778                      2008       0              NaN              NaN   \n",
       "\n",
       "          PromoInterval  \n",
       "682864  Jan,Apr,Jul,Oct  \n",
       "759778              NaN  "
      ]
     },
     "execution_count": 54,
     "metadata": {},
     "output_type": "execute_result"
    }
   ],
   "source": [
    "small_table.head(2)"
   ]
  },
  {
   "cell_type": "code",
   "execution_count": 55,
   "metadata": {
    "collapsed": false
   },
   "outputs": [
    {
     "data": {
      "text/plain": [
       "<matplotlib.collections.PathCollection at 0x1083d8050>"
      ]
     },
     "execution_count": 55,
     "metadata": {},
     "output_type": "execute_result"
    },
    {
     "data": {
      "image/png": "[encoded data removed]",
      "text/plain": [
       "<matplotlib.figure.Figure at 0x115f09e10>"
      ]
     },
     "metadata": {},
     "output_type": "display_data"
    }
   ],
   "source": [
    "plt.scatter(small_table['Customers'], small_table['Sales'])"
   ]
  },
  {
   "cell_type": "code",
   "execution_count": 56,
   "metadata": {
    "collapsed": false
   },
   "outputs": [
    {
     "data": {
      "text/plain": [
       "<matplotlib.collections.PathCollection at 0x1084e34d0>"
      ]
     },
     "execution_count": 56,
     "metadata": {},
     "output_type": "execute_result"
    },
    {
     "data": {
      "image/png": "[encoded data removed]",
      "text/plain": [
       "<matplotlib.figure.Figure at 0x115f428d0>"
      ]
     },
     "metadata": {},
     "output_type": "display_data"
    }
   ],
   "source": [
    "# uhhh what is wrong with sunday\n",
    "plt.scatter(small_table['DayOfWeek'], small_table['Sales'])"
   ]
  },
  {
   "cell_type": "code",
   "execution_count": 57,
   "metadata": {
    "collapsed": false
   },
   "outputs": [
    {
     "data": {
      "text/plain": [
       "<matplotlib.collections.PathCollection at 0x10878d4d0>"
      ]
     },
     "execution_count": 57,
     "metadata": {},
     "output_type": "execute_result"
    },
    {
     "data": {
      "image/png": "[encoded data removed]",
      "text/plain": [
       "<matplotlib.figure.Figure at 0x115f1db10>"
      ]
     },
     "metadata": {},
     "output_type": "display_data"
    }
   ],
   "source": [
    "# school holiday doesn't seem to happened a lot\n",
    "plt.scatter(small_table['SchoolHoliday'], small_table['Sales'])"
   ]
  },
  {
   "cell_type": "code",
   "execution_count": 58,
   "metadata": {
    "collapsed": false
   },
   "outputs": [
    {
     "data": {
      "text/plain": [
       "<matplotlib.collections.PathCollection at 0x1088a7e50>"
      ]
     },
     "execution_count": 58,
     "metadata": {},
     "output_type": "execute_result"
    },
    {
     "data": {
      "image/png": "[encoded data removed]",
      "text/plain": [
       "<matplotlib.figure.Figure at 0x1084fcbd0>"
      ]
     },
     "metadata": {},
     "output_type": "display_data"
    }
   ],
   "source": [
    "# makes sense\n",
    "plt.scatter(small_table['Open'], small_table['Sales'])"
   ]
  },
  {
   "cell_type": "code",
   "execution_count": 59,
   "metadata": {
    "collapsed": false
   },
   "outputs": [
    {
     "data": {
      "text/plain": [
       "<matplotlib.collections.PathCollection at 0x10e209710>"
      ]
     },
     "execution_count": 59,
     "metadata": {},
     "output_type": "execute_result"
    },
    {
     "data": {
      "image/png": "[encoded data removed]",
      "text/plain": [
       "<matplotlib.figure.Figure at 0x108405090>"
      ]
     },
     "metadata": {},
     "output_type": "display_data"
    }
   ],
   "source": [
    "# weird competition distance seem to have no indication of result\n",
    "plt.scatter(small_table['CompetitionDistance'], small_table['Sales'])"
   ]
  },
  {
   "cell_type": "code",
   "execution_count": 60,
   "metadata": {
    "collapsed": false
   },
   "outputs": [
    {
     "data": {
      "text/plain": [
       "count    3404.000000\n",
       "mean     2008.638367\n",
       "std         6.167603\n",
       "min      1900.000000\n",
       "25%      2006.000000\n",
       "50%      2010.000000\n",
       "75%      2012.000000\n",
       "max      2015.000000\n",
       "Name: CompetitionOpenSinceYear, dtype: float64"
      ]
     },
     "execution_count": 60,
     "metadata": {},
     "output_type": "execute_result"
    }
   ],
   "source": [
    "small_table['CompetitionOpenSinceYear'].describe()"
   ]
  },
  {
   "cell_type": "code",
   "execution_count": 61,
   "metadata": {
    "collapsed": false
   },
   "outputs": [
    {
     "data": {
      "text/plain": [
       "<matplotlib.collections.PathCollection at 0x129a35ad0>"
      ]
     },
     "execution_count": 61,
     "metadata": {},
     "output_type": "execute_result"
    },
    {
     "data": {
      "image/png": "[encoded data removed]",
      "text/plain": [
       "<matplotlib.figure.Figure at 0x1089a7e50>"
      ]
     },
     "metadata": {},
     "output_type": "display_data"
    }
   ],
   "source": [
    "# this is useless, need to generate feature for CompetitionYearsOpen\n",
    "plt.scatter(small_table['CompetitionOpenSinceYear'], small_table['Sales'])"
   ]
  },
  {
   "cell_type": "code",
   "execution_count": 62,
   "metadata": {
    "collapsed": false
   },
   "outputs": [
    {
     "data": {
      "text/plain": [
       "<matplotlib.collections.PathCollection at 0x1282abf10>"
      ]
     },
     "execution_count": 62,
     "metadata": {},
     "output_type": "execute_result"
    },
    {
     "data": {
      "image/png": "[encoded data removed]",
      "text/plain": [
       "<matplotlib.figure.Figure at 0x10e242550>"
      ]
     },
     "metadata": {},
     "output_type": "display_data"
    }
   ],
   "source": [
    "# well tiny tiny difference\n",
    "plt.scatter(small_table['Promo2'], small_table['Sales'])"
   ]
  },
  {
   "cell_type": "code",
   "execution_count": 63,
   "metadata": {
    "collapsed": false
   },
   "outputs": [
    {
     "data": {
      "text/plain": [
       "<matplotlib.collections.PathCollection at 0x108a95690>"
      ]
     },
     "execution_count": 63,
     "metadata": {},
     "output_type": "execute_result"
    },
    {
     "data": {
      "image/png": "[encoded data removed]",
      "text/plain": [
       "<matplotlib.figure.Figure at 0x129d5c910>"
      ]
     },
     "metadata": {},
     "output_type": "display_data"
    }
   ],
   "source": [
    "plt.scatter(small_table['Assortment'], small_table['Sales'])"
   ]
  },
  {
   "cell_type": "code",
   "execution_count": 64,
   "metadata": {
    "collapsed": false
   },
   "outputs": [
    {
     "data": {
      "text/plain": [
       "<matplotlib.collections.PathCollection at 0x107aa1310>"
      ]
     },
     "execution_count": 64,
     "metadata": {},
     "output_type": "execute_result"
    },
    {
     "data": {
      "image/png": "[encoded data removed]",
      "text/plain": [
       "<matplotlib.figure.Figure at 0x129d51b50>"
      ]
     },
     "metadata": {},
     "output_type": "display_data"
    }
   ],
   "source": [
    "# a lot of these features need to be applied together\n",
    "plt.scatter(small_table['StoreType'], small_table['Sales'])"
   ]
  }
 ],
 "metadata": {
  "kernelspec": {
   "display_name": "Python 2",
   "language": "python",
   "name": "python2"
  },
  "language_info": {
   "codemirror_mode": {
    "name": "ipython",
    "version": 2
   },
   "file_extension": ".py",
   "mimetype": "text/x-python",
   "name": "python",
   "nbconvert_exporter": "python",
   "pygments_lexer": "ipython2",
   "version": "2.7.10"
  }
 },
 "nbformat": 4,
 "nbformat_minor": 0
}
