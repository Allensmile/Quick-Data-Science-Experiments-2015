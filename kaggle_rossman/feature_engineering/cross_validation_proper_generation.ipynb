{
 "cells": [
  {
   "cell_type": "code",
   "execution_count": 36,
   "metadata": {
    "collapsed": true
   },
   "outputs": [],
   "source": [
    "import pandas as pd\n",
    "import numpy as np\n",
    "from sklearn.cross_validation import train_test_split\n",
    "import xgboost as xgb\n",
    "import operator\n",
    "import matplotlib\n",
    "matplotlib.use(\"Agg\") #Needed to save figures\n",
    "import matplotlib.pyplot as plt\n",
    "import cPickle as pickle\n",
    "\n",
    "def rmspe(y, yhat):\n",
    "    return np.sqrt(np.mean((yhat/y-1) ** 2))\n",
    "\n",
    "def rmspe_xg(yhat, y):\n",
    "    y = np.expm1(y.get_label())\n",
    "    yhat = np.expm1(yhat)\n",
    "    return \"rmspe\", rmspe(y,yhat)\n",
    "\n",
    "def build_features(features, data):\n",
    "    # remove NaNs\n",
    "    data.fillna(0, inplace=True)\n",
    "    data.loc[data.Open.isnull(), 'Open'] = 1\n",
    "    # Use some properties directly\n",
    "    features.extend(['Store', 'CompetitionDistance', 'Promo', 'Promo2', 'SchoolHoliday'])\n",
    "\n",
    "    # Label encode some features\n",
    "    features.extend(['StoreType', 'Assortment', 'StateHoliday'])\n",
    "    mappings = {'0':0, 'a':1, 'b':2, 'c':3, 'd':4}\n",
    "    data.StoreType.replace(mappings, inplace=True)\n",
    "    data.Assortment.replace(mappings, inplace=True)\n",
    "    data.StateHoliday.replace(mappings, inplace=True)\n",
    "\n",
    "    features.extend(['DayOfWeek', 'Month', 'Day', 'Year', 'WeekOfYear'])\n",
    "    data['Year'] = data.Date.dt.year\n",
    "    data['Month'] = data.Date.dt.month\n",
    "    data['Day'] = data.Date.dt.day\n",
    "    data['DayOfWeek'] = data.Date.dt.dayofweek\n",
    "    data['WeekOfYear'] = data.Date.dt.weekofyear\n",
    "\n",
    "    # CompetionOpen en PromoOpen from https://www.kaggle.com/ananya77041/rossmann-store-sales/randomforestpython/code\n",
    "    # Calculate time competition open time in months\n",
    "    features.append('CompetitionOpen')\n",
    "    data['CompetitionOpen'] = 12 * (data.Year - data.CompetitionOpenSinceYear) + \\\n",
    "        (data.Month - data.CompetitionOpenSinceMonth)\n",
    "    # Promo open time in months\n",
    "    features.append('PromoOpen')\n",
    "    data['PromoOpen'] = 12 * (data.Year - data.Promo2SinceYear) + \\\n",
    "        (data.WeekOfYear - data.Promo2SinceWeek) / 4.0\n",
    "    data['PromoOpen'] = data.PromoOpen.apply(lambda x: x if x > 0 else 0)\n",
    "    data.loc[data.Promo2SinceYear == 0, 'PromoOpen'] = 0\n",
    "\n",
    "    # Indicate that sales on that day are in promo interval\n",
    "    features.append('IsPromoMonth')\n",
    "    month2str = {1:'Jan', 2:'Feb', 3:'Mar', 4:'Apr', 5:'May', 6:'Jun', \\\n",
    "             7:'Jul', 8:'Aug', 9:'Sept', 10:'Oct', 11:'Nov', 12:'Dec'}\n",
    "    data['monthStr'] = data.Month.map(month2str)\n",
    "    data.loc[data.PromoInterval == 0, 'PromoInterval'] = ''\n",
    "    data['IsPromoMonth'] = 0\n",
    "    for interval in data.PromoInterval.unique():\n",
    "        if interval != '':\n",
    "            for month in interval.split(','):\n",
    "                data.loc[(data.monthStr == month) & (data.PromoInterval == interval), 'IsPromoMonth'] = 1\n",
    "\n",
    "    return data\n"
   ]
  },
  {
   "cell_type": "code",
   "execution_count": 37,
   "metadata": {
    "collapsed": false,
    "scrolled": true
   },
   "outputs": [
    {
     "name": "stdout",
     "output_type": "stream",
     "text": [
      "Store                        844338\n",
      "DayOfWeek                    844338\n",
      "Date                         844338\n",
      "Sales                        844338\n",
      "Customers                    844338\n",
      "Open                         844338\n",
      "Promo                        844338\n",
      "StateHoliday                 844338\n",
      "SchoolHoliday                844338\n",
      "StoreType                    844338\n",
      "Assortment                   844338\n",
      "CompetitionDistance          844338\n",
      "CompetitionOpenSinceMonth    844338\n",
      "CompetitionOpenSinceYear     844338\n",
      "Promo2                       844338\n",
      "Promo2SinceWeek              844338\n",
      "Promo2SinceYear              844338\n",
      "PromoInterval                844338\n",
      "SalesDayOfWeek4_Median       844338\n",
      "SalesDayOfWeek4_25th         844338\n",
      "SalesDayOfWeek4_75th         844338\n",
      "SalesDayOfWeek3_Median       844338\n",
      "SalesDayOfWeek3_25th         844338\n",
      "SalesDayOfWeek3_75th         844338\n",
      "SalesDayOfWeek2_Median       844338\n",
      "SalesDayOfWeek2_25th         844338\n",
      "SalesDayOfWeek2_75th         844338\n",
      "SalesDayOfWeek1_Median       844338\n",
      "SalesDayOfWeek1_25th         844338\n",
      "SalesDayOfWeek1_75th         844338\n",
      "SalesDayOfWeek0_Median       844338\n",
      "SalesDayOfWeek0_25th         844338\n",
      "SalesDayOfWeek0_75th         844338\n",
      "SalesDayOfWeek5_Median       844338\n",
      "SalesDayOfWeek5_25th         844338\n",
      "SalesDayOfWeek5_75th         844338\n",
      "SalesDayOfWeek6_Median       844338\n",
      "SalesDayOfWeek6_25th         844338\n",
      "SalesDayOfWeek6_75th         844338\n",
      "Year                         844338\n",
      "Month                        844338\n",
      "Day                          844338\n",
      "WeekOfYear                   844338\n",
      "CompetitionOpen              844338\n",
      "PromoOpen                    844338\n",
      "monthStr                     844338\n",
      "IsPromoMonth                 844338\n",
      "dtype: int64\n"
     ]
    }
   ],
   "source": [
    "features = []\n",
    "types = {'CompetitionOpenSinceYear': np.dtype(int),\n",
    "         'CompetitionOpenSinceMonth': np.dtype(int),\n",
    "         'StateHoliday': np.dtype(str),\n",
    "         'Promo2SinceWeek': np.dtype(int),\n",
    "         'SchoolHoliday': np.dtype(float),\n",
    "         'PromoInterval': np.dtype(str)}\n",
    "train = pd.read_csv(\"../data/train.csv\", parse_dates=[2], dtype=types)\n",
    "test = pd.read_csv(\"../data/test.csv\", parse_dates=[3], dtype=types)\n",
    "store = pd.read_csv(\"../data/store_features.pd\")\n",
    "for feature in store.columns:\n",
    "    if '_' in feature:\n",
    "        features += [feature]\n",
    "\n",
    "train.fillna(1, inplace=True)\n",
    "test.fillna(1, inplace=True)\n",
    "\n",
    "train = train[train[\"Open\"] != 0]\n",
    "train = train[train[\"Sales\"] > 0]\n",
    "\n",
    "train = pd.merge(train, store, on='Store')\n",
    "test = pd.merge(test, store, on='Store')\n",
    "\n",
    "build_features(features, train)\n",
    "build_features([], test)\n",
    "print train.count()"
   ]
  },
  {
   "cell_type": "code",
   "execution_count": 38,
   "metadata": {
    "collapsed": false
   },
   "outputs": [
    {
     "name": "stdout",
     "output_type": "stream",
     "text": [
      "(760259, 47)\n",
      "(84079, 47)\n"
     ]
    }
   ],
   "source": [
    "validation_candidates = train[((train.Date >= '2013-08-01') & (train.Date <= '2013-09-17')) | ((train.Date >= '2014-08-01') & (train.Date <= '2014-09-17'))]\n",
    "train = train[~(((train.Date >= '2013-08-01') & (train.Date <= '2013-09-17')) | ((train.Date >= '2014-08-01') & (train.Date <= '2014-09-17')))]\n",
    "print train.shape\n",
    "print validation_candidates.shape"
   ]
  },
  {
   "cell_type": "code",
   "execution_count": 39,
   "metadata": {
    "collapsed": false
   },
   "outputs": [],
   "source": [
    "X_train, X_valid = train_test_split(validation_candidates, test_size=0.1, random_state=1337)\n",
    "X_train = pd.concat([train, X_train], axis=0)"
   ]
  },
  {
   "cell_type": "code",
   "execution_count": 40,
   "metadata": {
    "collapsed": false
   },
   "outputs": [
    {
     "name": "stdout",
     "output_type": "stream",
     "text": [
      "(835930, 47)\n",
      "(8408, 47)\n"
     ]
    }
   ],
   "source": [
    "print X_train.shape\n",
    "print X_valid.shape"
   ]
  },
  {
   "cell_type": "code",
   "execution_count": null,
   "metadata": {
    "collapsed": true
   },
   "outputs": [],
   "source": []
  }
 ],
 "metadata": {
  "kernelspec": {
   "display_name": "Python 2",
   "language": "python",
   "name": "python2"
  },
  "language_info": {
   "codemirror_mode": {
    "name": "ipython",
    "version": 2
   },
   "file_extension": ".py",
   "mimetype": "text/x-python",
   "name": "python",
   "nbconvert_exporter": "python",
   "pygments_lexer": "ipython2",
   "version": "2.7.10"
  }
 },
 "nbformat": 4,
 "nbformat_minor": 0
}
