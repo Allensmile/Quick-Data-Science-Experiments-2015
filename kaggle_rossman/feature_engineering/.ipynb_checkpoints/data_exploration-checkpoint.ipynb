{
 "cells": [
  {
   "cell_type": "code",
   "execution_count": 1,
   "metadata": {
    "collapsed": true
   },
   "outputs": [],
   "source": [
    "import numpy as np\n",
    "import pandas as pd\n",
    "import matplotlib.pyplot as plt\n",
    "%matplotlib inline"
   ]
  },
  {
   "cell_type": "code",
   "execution_count": 2,
   "metadata": {
    "collapsed": false
   },
   "outputs": [
    {
     "name": "stderr",
     "output_type": "stream",
     "text": [
      "/Library/Python/2.7/site-packages/IPython/core/interactiveshell.py:2902: DtypeWarning: Columns (7) have mixed types. Specify dtype option on import or set low_memory=False.\n",
      "  interactivity=interactivity, compiler=compiler, result=result)\n"
     ]
    }
   ],
   "source": [
    "sales = pd.read_csv(\"../data/train.csv\")\n",
    "stores = pd.read_csv(\"../data/store.csv\")\n",
    "def transformStoreType(x):\n",
    "    if x == \"a\":\n",
    "        return 1\n",
    "    if x == \"b\":\n",
    "        return 2\n",
    "    if x == \"c\":\n",
    "        return 3\n",
    "    return 4\n",
    "def transformAssortment(x):\n",
    "    if x == \"a\":\n",
    "        return 1\n",
    "    if x == \"b\":\n",
    "        return 2\n",
    "    return 3\n",
    "stores['StoreType'] = stores['StoreType'].apply(transformStoreType)\n",
    "stores['Assortment'] = stores['Assortment'].apply(transformAssortment)"
   ]
  },
  {
   "cell_type": "code",
   "execution_count": 3,
   "metadata": {
    "collapsed": false
   },
   "outputs": [
    {
     "data": {
      "text/html": [
       "<div>\n",
       "<table border=\"1\" class=\"dataframe\">\n",
       "  <thead>\n",
       "    <tr style=\"text-align: right;\">\n",
       "      <th></th>\n",
       "      <th>Store</th>\n",
       "      <th>DayOfWeek</th>\n",
       "      <th>Date</th>\n",
       "      <th>Sales</th>\n",
       "      <th>Customers</th>\n",
       "      <th>Open</th>\n",
       "      <th>Promo</th>\n",
       "      <th>StateHoliday</th>\n",
       "      <th>SchoolHoliday</th>\n",
       "    </tr>\n",
       "  </thead>\n",
       "  <tbody>\n",
       "    <tr>\n",
       "      <th>825789</th>\n",
       "      <td>360</td>\n",
       "      <td>5</td>\n",
       "      <td>2013-06-21</td>\n",
       "      <td>8016</td>\n",
       "      <td>842</td>\n",
       "      <td>1</td>\n",
       "      <td>1</td>\n",
       "      <td>0</td>\n",
       "      <td>1</td>\n",
       "    </tr>\n",
       "    <tr>\n",
       "      <th>813554</th>\n",
       "      <td>390</td>\n",
       "      <td>2</td>\n",
       "      <td>2013-07-02</td>\n",
       "      <td>13156</td>\n",
       "      <td>1146</td>\n",
       "      <td>1</td>\n",
       "      <td>1</td>\n",
       "      <td>0</td>\n",
       "      <td>1</td>\n",
       "    </tr>\n",
       "    <tr>\n",
       "      <th>938031</th>\n",
       "      <td>1102</td>\n",
       "      <td>3</td>\n",
       "      <td>2013-03-13</td>\n",
       "      <td>5150</td>\n",
       "      <td>573</td>\n",
       "      <td>1</td>\n",
       "      <td>0</td>\n",
       "      <td>0</td>\n",
       "      <td>0</td>\n",
       "    </tr>\n",
       "    <tr>\n",
       "      <th>900141</th>\n",
       "      <td>7</td>\n",
       "      <td>1</td>\n",
       "      <td>2013-04-15</td>\n",
       "      <td>6342</td>\n",
       "      <td>826</td>\n",
       "      <td>1</td>\n",
       "      <td>0</td>\n",
       "      <td>0</td>\n",
       "      <td>0</td>\n",
       "    </tr>\n",
       "    <tr>\n",
       "      <th>325776</th>\n",
       "      <td>687</td>\n",
       "      <td>6</td>\n",
       "      <td>2014-09-27</td>\n",
       "      <td>8111</td>\n",
       "      <td>751</td>\n",
       "      <td>1</td>\n",
       "      <td>0</td>\n",
       "      <td>0</td>\n",
       "      <td>0</td>\n",
       "    </tr>\n",
       "  </tbody>\n",
       "</table>\n",
       "</div>"
      ],
      "text/plain": [
       "        Store  DayOfWeek        Date  Sales  Customers  Open  Promo  \\\n",
       "825789    360          5  2013-06-21   8016        842     1      1   \n",
       "813554    390          2  2013-07-02  13156       1146     1      1   \n",
       "938031   1102          3  2013-03-13   5150        573     1      0   \n",
       "900141      7          1  2013-04-15   6342        826     1      0   \n",
       "325776    687          6  2014-09-27   8111        751     1      0   \n",
       "\n",
       "       StateHoliday  SchoolHoliday  \n",
       "825789            0              1  \n",
       "813554            0              1  \n",
       "938031            0              0  \n",
       "900141            0              0  \n",
       "325776            0              0  "
      ]
     },
     "execution_count": 3,
     "metadata": {},
     "output_type": "execute_result"
    }
   ],
   "source": [
    "sales.sample(5)"
   ]
  },
  {
   "cell_type": "code",
   "execution_count": 4,
   "metadata": {
    "collapsed": false
   },
   "outputs": [
    {
     "data": {
      "text/html": [
       "<div>\n",
       "<table border=\"1\" class=\"dataframe\">\n",
       "  <thead>\n",
       "    <tr style=\"text-align: right;\">\n",
       "      <th></th>\n",
       "      <th>Store</th>\n",
       "      <th>StoreType</th>\n",
       "      <th>Assortment</th>\n",
       "      <th>CompetitionDistance</th>\n",
       "      <th>CompetitionOpenSinceMonth</th>\n",
       "      <th>CompetitionOpenSinceYear</th>\n",
       "      <th>Promo2</th>\n",
       "      <th>Promo2SinceWeek</th>\n",
       "      <th>Promo2SinceYear</th>\n",
       "      <th>PromoInterval</th>\n",
       "    </tr>\n",
       "  </thead>\n",
       "  <tbody>\n",
       "    <tr>\n",
       "      <th>863</th>\n",
       "      <td>864</td>\n",
       "      <td>1</td>\n",
       "      <td>1</td>\n",
       "      <td>1020</td>\n",
       "      <td>10</td>\n",
       "      <td>2012</td>\n",
       "      <td>1</td>\n",
       "      <td>45</td>\n",
       "      <td>2009</td>\n",
       "      <td>Feb,May,Aug,Nov</td>\n",
       "    </tr>\n",
       "    <tr>\n",
       "      <th>1066</th>\n",
       "      <td>1067</td>\n",
       "      <td>4</td>\n",
       "      <td>3</td>\n",
       "      <td>12020</td>\n",
       "      <td>7</td>\n",
       "      <td>2009</td>\n",
       "      <td>0</td>\n",
       "      <td>NaN</td>\n",
       "      <td>NaN</td>\n",
       "      <td>NaN</td>\n",
       "    </tr>\n",
       "    <tr>\n",
       "      <th>50</th>\n",
       "      <td>51</td>\n",
       "      <td>1</td>\n",
       "      <td>3</td>\n",
       "      <td>10570</td>\n",
       "      <td>7</td>\n",
       "      <td>2013</td>\n",
       "      <td>1</td>\n",
       "      <td>9</td>\n",
       "      <td>2011</td>\n",
       "      <td>Jan,Apr,Jul,Oct</td>\n",
       "    </tr>\n",
       "    <tr>\n",
       "      <th>952</th>\n",
       "      <td>953</td>\n",
       "      <td>1</td>\n",
       "      <td>1</td>\n",
       "      <td>19830</td>\n",
       "      <td>4</td>\n",
       "      <td>2006</td>\n",
       "      <td>1</td>\n",
       "      <td>22</td>\n",
       "      <td>2011</td>\n",
       "      <td>Mar,Jun,Sept,Dec</td>\n",
       "    </tr>\n",
       "    <tr>\n",
       "      <th>356</th>\n",
       "      <td>357</td>\n",
       "      <td>1</td>\n",
       "      <td>1</td>\n",
       "      <td>2060</td>\n",
       "      <td>10</td>\n",
       "      <td>2008</td>\n",
       "      <td>0</td>\n",
       "      <td>NaN</td>\n",
       "      <td>NaN</td>\n",
       "      <td>NaN</td>\n",
       "    </tr>\n",
       "  </tbody>\n",
       "</table>\n",
       "</div>"
      ],
      "text/plain": [
       "      Store  StoreType  Assortment  CompetitionDistance  \\\n",
       "863     864          1           1                 1020   \n",
       "1066   1067          4           3                12020   \n",
       "50       51          1           3                10570   \n",
       "952     953          1           1                19830   \n",
       "356     357          1           1                 2060   \n",
       "\n",
       "      CompetitionOpenSinceMonth  CompetitionOpenSinceYear  Promo2  \\\n",
       "863                          10                      2012       1   \n",
       "1066                          7                      2009       0   \n",
       "50                            7                      2013       1   \n",
       "952                           4                      2006       1   \n",
       "356                          10                      2008       0   \n",
       "\n",
       "      Promo2SinceWeek  Promo2SinceYear     PromoInterval  \n",
       "863                45             2009   Feb,May,Aug,Nov  \n",
       "1066              NaN              NaN               NaN  \n",
       "50                  9             2011   Jan,Apr,Jul,Oct  \n",
       "952                22             2011  Mar,Jun,Sept,Dec  \n",
       "356               NaN              NaN               NaN  "
      ]
     },
     "execution_count": 4,
     "metadata": {},
     "output_type": "execute_result"
    }
   ],
   "source": [
    "stores.sample(5)"
   ]
  },
  {
   "cell_type": "code",
   "execution_count": 5,
   "metadata": {
    "collapsed": false
   },
   "outputs": [
    {
     "data": {
      "text/html": [
       "<div>\n",
       "<table border=\"1\" class=\"dataframe\">\n",
       "  <thead>\n",
       "    <tr style=\"text-align: right;\">\n",
       "      <th></th>\n",
       "      <th>Store</th>\n",
       "      <th>DayOfWeek</th>\n",
       "      <th>Sales</th>\n",
       "      <th>Customers</th>\n",
       "      <th>Open</th>\n",
       "      <th>Promo</th>\n",
       "      <th>SchoolHoliday</th>\n",
       "    </tr>\n",
       "  </thead>\n",
       "  <tbody>\n",
       "    <tr>\n",
       "      <th>count</th>\n",
       "      <td>1017209.000000</td>\n",
       "      <td>1017209.000000</td>\n",
       "      <td>1017209.000000</td>\n",
       "      <td>1017209.000000</td>\n",
       "      <td>1017209.000000</td>\n",
       "      <td>1017209.000000</td>\n",
       "      <td>1017209.000000</td>\n",
       "    </tr>\n",
       "    <tr>\n",
       "      <th>mean</th>\n",
       "      <td>558.429727</td>\n",
       "      <td>3.998341</td>\n",
       "      <td>5773.818972</td>\n",
       "      <td>633.145946</td>\n",
       "      <td>0.830107</td>\n",
       "      <td>0.381515</td>\n",
       "      <td>0.178647</td>\n",
       "    </tr>\n",
       "    <tr>\n",
       "      <th>std</th>\n",
       "      <td>321.908651</td>\n",
       "      <td>1.997391</td>\n",
       "      <td>3849.926175</td>\n",
       "      <td>464.411734</td>\n",
       "      <td>0.375539</td>\n",
       "      <td>0.485759</td>\n",
       "      <td>0.383056</td>\n",
       "    </tr>\n",
       "    <tr>\n",
       "      <th>min</th>\n",
       "      <td>1.000000</td>\n",
       "      <td>1.000000</td>\n",
       "      <td>0.000000</td>\n",
       "      <td>0.000000</td>\n",
       "      <td>0.000000</td>\n",
       "      <td>0.000000</td>\n",
       "      <td>0.000000</td>\n",
       "    </tr>\n",
       "    <tr>\n",
       "      <th>25%</th>\n",
       "      <td>280.000000</td>\n",
       "      <td>2.000000</td>\n",
       "      <td>3727.000000</td>\n",
       "      <td>405.000000</td>\n",
       "      <td>1.000000</td>\n",
       "      <td>0.000000</td>\n",
       "      <td>0.000000</td>\n",
       "    </tr>\n",
       "    <tr>\n",
       "      <th>50%</th>\n",
       "      <td>558.000000</td>\n",
       "      <td>4.000000</td>\n",
       "      <td>5744.000000</td>\n",
       "      <td>609.000000</td>\n",
       "      <td>1.000000</td>\n",
       "      <td>0.000000</td>\n",
       "      <td>0.000000</td>\n",
       "    </tr>\n",
       "    <tr>\n",
       "      <th>75%</th>\n",
       "      <td>838.000000</td>\n",
       "      <td>6.000000</td>\n",
       "      <td>7856.000000</td>\n",
       "      <td>837.000000</td>\n",
       "      <td>1.000000</td>\n",
       "      <td>1.000000</td>\n",
       "      <td>0.000000</td>\n",
       "    </tr>\n",
       "    <tr>\n",
       "      <th>max</th>\n",
       "      <td>1115.000000</td>\n",
       "      <td>7.000000</td>\n",
       "      <td>41551.000000</td>\n",
       "      <td>7388.000000</td>\n",
       "      <td>1.000000</td>\n",
       "      <td>1.000000</td>\n",
       "      <td>1.000000</td>\n",
       "    </tr>\n",
       "  </tbody>\n",
       "</table>\n",
       "</div>"
      ],
      "text/plain": [
       "                Store       DayOfWeek           Sales       Customers  \\\n",
       "count  1017209.000000  1017209.000000  1017209.000000  1017209.000000   \n",
       "mean       558.429727        3.998341     5773.818972      633.145946   \n",
       "std        321.908651        1.997391     3849.926175      464.411734   \n",
       "min          1.000000        1.000000        0.000000        0.000000   \n",
       "25%        280.000000        2.000000     3727.000000      405.000000   \n",
       "50%        558.000000        4.000000     5744.000000      609.000000   \n",
       "75%        838.000000        6.000000     7856.000000      837.000000   \n",
       "max       1115.000000        7.000000    41551.000000     7388.000000   \n",
       "\n",
       "                 Open           Promo   SchoolHoliday  \n",
       "count  1017209.000000  1017209.000000  1017209.000000  \n",
       "mean         0.830107        0.381515        0.178647  \n",
       "std          0.375539        0.485759        0.383056  \n",
       "min          0.000000        0.000000        0.000000  \n",
       "25%          1.000000        0.000000        0.000000  \n",
       "50%          1.000000        0.000000        0.000000  \n",
       "75%          1.000000        1.000000        0.000000  \n",
       "max          1.000000        1.000000        1.000000  "
      ]
     },
     "execution_count": 5,
     "metadata": {},
     "output_type": "execute_result"
    }
   ],
   "source": [
    "sales.describe()"
   ]
  },
  {
   "cell_type": "code",
   "execution_count": 6,
   "metadata": {
    "collapsed": false
   },
   "outputs": [
    {
     "data": {
      "text/html": [
       "<div>\n",
       "<table border=\"1\" class=\"dataframe\">\n",
       "  <thead>\n",
       "    <tr style=\"text-align: right;\">\n",
       "      <th></th>\n",
       "      <th>Store</th>\n",
       "      <th>StoreType</th>\n",
       "      <th>Assortment</th>\n",
       "      <th>CompetitionDistance</th>\n",
       "      <th>CompetitionOpenSinceMonth</th>\n",
       "      <th>CompetitionOpenSinceYear</th>\n",
       "      <th>Promo2</th>\n",
       "      <th>Promo2SinceWeek</th>\n",
       "      <th>Promo2SinceYear</th>\n",
       "    </tr>\n",
       "  </thead>\n",
       "  <tbody>\n",
       "    <tr>\n",
       "      <th>count</th>\n",
       "      <td>1115.00000</td>\n",
       "      <td>1115.000000</td>\n",
       "      <td>1115.000000</td>\n",
       "      <td>1112.000000</td>\n",
       "      <td>761.000000</td>\n",
       "      <td>761.000000</td>\n",
       "      <td>1115.000000</td>\n",
       "      <td>571.000000</td>\n",
       "      <td>571.000000</td>\n",
       "    </tr>\n",
       "    <tr>\n",
       "      <th>mean</th>\n",
       "      <td>558.00000</td>\n",
       "      <td>2.217040</td>\n",
       "      <td>1.928251</td>\n",
       "      <td>5404.901079</td>\n",
       "      <td>7.224704</td>\n",
       "      <td>2008.668857</td>\n",
       "      <td>0.512108</td>\n",
       "      <td>23.595447</td>\n",
       "      <td>2011.763573</td>\n",
       "    </tr>\n",
       "    <tr>\n",
       "      <th>std</th>\n",
       "      <td>322.01708</td>\n",
       "      <td>1.369544</td>\n",
       "      <td>0.993814</td>\n",
       "      <td>7663.174720</td>\n",
       "      <td>3.212348</td>\n",
       "      <td>6.195983</td>\n",
       "      <td>0.500078</td>\n",
       "      <td>14.141984</td>\n",
       "      <td>1.674935</td>\n",
       "    </tr>\n",
       "    <tr>\n",
       "      <th>min</th>\n",
       "      <td>1.00000</td>\n",
       "      <td>1.000000</td>\n",
       "      <td>1.000000</td>\n",
       "      <td>20.000000</td>\n",
       "      <td>1.000000</td>\n",
       "      <td>1900.000000</td>\n",
       "      <td>0.000000</td>\n",
       "      <td>1.000000</td>\n",
       "      <td>2009.000000</td>\n",
       "    </tr>\n",
       "    <tr>\n",
       "      <th>25%</th>\n",
       "      <td>279.50000</td>\n",
       "      <td>1.000000</td>\n",
       "      <td>1.000000</td>\n",
       "      <td>717.500000</td>\n",
       "      <td>4.000000</td>\n",
       "      <td>2006.000000</td>\n",
       "      <td>0.000000</td>\n",
       "      <td>13.000000</td>\n",
       "      <td>2011.000000</td>\n",
       "    </tr>\n",
       "    <tr>\n",
       "      <th>50%</th>\n",
       "      <td>558.00000</td>\n",
       "      <td>1.000000</td>\n",
       "      <td>1.000000</td>\n",
       "      <td>2325.000000</td>\n",
       "      <td>8.000000</td>\n",
       "      <td>2010.000000</td>\n",
       "      <td>1.000000</td>\n",
       "      <td>22.000000</td>\n",
       "      <td>2012.000000</td>\n",
       "    </tr>\n",
       "    <tr>\n",
       "      <th>75%</th>\n",
       "      <td>836.50000</td>\n",
       "      <td>4.000000</td>\n",
       "      <td>3.000000</td>\n",
       "      <td>6882.500000</td>\n",
       "      <td>10.000000</td>\n",
       "      <td>2013.000000</td>\n",
       "      <td>1.000000</td>\n",
       "      <td>37.000000</td>\n",
       "      <td>2013.000000</td>\n",
       "    </tr>\n",
       "    <tr>\n",
       "      <th>max</th>\n",
       "      <td>1115.00000</td>\n",
       "      <td>4.000000</td>\n",
       "      <td>3.000000</td>\n",
       "      <td>75860.000000</td>\n",
       "      <td>12.000000</td>\n",
       "      <td>2015.000000</td>\n",
       "      <td>1.000000</td>\n",
       "      <td>50.000000</td>\n",
       "      <td>2015.000000</td>\n",
       "    </tr>\n",
       "  </tbody>\n",
       "</table>\n",
       "</div>"
      ],
      "text/plain": [
       "            Store    StoreType   Assortment  CompetitionDistance  \\\n",
       "count  1115.00000  1115.000000  1115.000000          1112.000000   \n",
       "mean    558.00000     2.217040     1.928251          5404.901079   \n",
       "std     322.01708     1.369544     0.993814          7663.174720   \n",
       "min       1.00000     1.000000     1.000000            20.000000   \n",
       "25%     279.50000     1.000000     1.000000           717.500000   \n",
       "50%     558.00000     1.000000     1.000000          2325.000000   \n",
       "75%     836.50000     4.000000     3.000000          6882.500000   \n",
       "max    1115.00000     4.000000     3.000000         75860.000000   \n",
       "\n",
       "       CompetitionOpenSinceMonth  CompetitionOpenSinceYear       Promo2  \\\n",
       "count                 761.000000                761.000000  1115.000000   \n",
       "mean                    7.224704               2008.668857     0.512108   \n",
       "std                     3.212348                  6.195983     0.500078   \n",
       "min                     1.000000               1900.000000     0.000000   \n",
       "25%                     4.000000               2006.000000     0.000000   \n",
       "50%                     8.000000               2010.000000     1.000000   \n",
       "75%                    10.000000               2013.000000     1.000000   \n",
       "max                    12.000000               2015.000000     1.000000   \n",
       "\n",
       "       Promo2SinceWeek  Promo2SinceYear  \n",
       "count       571.000000       571.000000  \n",
       "mean         23.595447      2011.763573  \n",
       "std          14.141984         1.674935  \n",
       "min           1.000000      2009.000000  \n",
       "25%          13.000000      2011.000000  \n",
       "50%          22.000000      2012.000000  \n",
       "75%          37.000000      2013.000000  \n",
       "max          50.000000      2015.000000  "
      ]
     },
     "execution_count": 6,
     "metadata": {},
     "output_type": "execute_result"
    }
   ],
   "source": [
    "stores.describe()"
   ]
  },
  {
   "cell_type": "code",
   "execution_count": 7,
   "metadata": {
    "collapsed": false
   },
   "outputs": [],
   "source": [
    "combined_tables = sales.merge(stores, on='Store', how='left')\n"
   ]
  },
  {
   "cell_type": "code",
   "execution_count": 8,
   "metadata": {
    "collapsed": false
   },
   "outputs": [
    {
     "data": {
      "text/html": [
       "<div>\n",
       "<table border=\"1\" class=\"dataframe\">\n",
       "  <thead>\n",
       "    <tr style=\"text-align: right;\">\n",
       "      <th></th>\n",
       "      <th>Store</th>\n",
       "      <th>DayOfWeek</th>\n",
       "      <th>Date</th>\n",
       "      <th>Sales</th>\n",
       "      <th>Customers</th>\n",
       "      <th>Open</th>\n",
       "      <th>Promo</th>\n",
       "      <th>StateHoliday</th>\n",
       "      <th>SchoolHoliday</th>\n",
       "      <th>StoreType</th>\n",
       "      <th>Assortment</th>\n",
       "      <th>CompetitionDistance</th>\n",
       "      <th>CompetitionOpenSinceMonth</th>\n",
       "      <th>CompetitionOpenSinceYear</th>\n",
       "      <th>Promo2</th>\n",
       "      <th>Promo2SinceWeek</th>\n",
       "      <th>Promo2SinceYear</th>\n",
       "      <th>PromoInterval</th>\n",
       "    </tr>\n",
       "  </thead>\n",
       "  <tbody>\n",
       "    <tr>\n",
       "      <th>830778</th>\n",
       "      <td>889</td>\n",
       "      <td>1</td>\n",
       "      <td>2013-06-17</td>\n",
       "      <td>4925</td>\n",
       "      <td>547</td>\n",
       "      <td>1</td>\n",
       "      <td>1</td>\n",
       "      <td>0</td>\n",
       "      <td>0</td>\n",
       "      <td>4</td>\n",
       "      <td>1</td>\n",
       "      <td>18670</td>\n",
       "      <td>12</td>\n",
       "      <td>2005</td>\n",
       "      <td>0</td>\n",
       "      <td>NaN</td>\n",
       "      <td>NaN</td>\n",
       "      <td>NaN</td>\n",
       "    </tr>\n",
       "    <tr>\n",
       "      <th>217695</th>\n",
       "      <td>271</td>\n",
       "      <td>6</td>\n",
       "      <td>2015-01-17</td>\n",
       "      <td>2821</td>\n",
       "      <td>286</td>\n",
       "      <td>1</td>\n",
       "      <td>0</td>\n",
       "      <td>0</td>\n",
       "      <td>0</td>\n",
       "      <td>1</td>\n",
       "      <td>1</td>\n",
       "      <td>420</td>\n",
       "      <td>NaN</td>\n",
       "      <td>NaN</td>\n",
       "      <td>1</td>\n",
       "      <td>14</td>\n",
       "      <td>2011</td>\n",
       "      <td>Jan,Apr,Jul,Oct</td>\n",
       "    </tr>\n",
       "    <tr>\n",
       "      <th>85704</th>\n",
       "      <td>965</td>\n",
       "      <td>6</td>\n",
       "      <td>2015-05-16</td>\n",
       "      <td>6611</td>\n",
       "      <td>747</td>\n",
       "      <td>1</td>\n",
       "      <td>0</td>\n",
       "      <td>0</td>\n",
       "      <td>0</td>\n",
       "      <td>1</td>\n",
       "      <td>3</td>\n",
       "      <td>110</td>\n",
       "      <td>NaN</td>\n",
       "      <td>NaN</td>\n",
       "      <td>0</td>\n",
       "      <td>NaN</td>\n",
       "      <td>NaN</td>\n",
       "      <td>NaN</td>\n",
       "    </tr>\n",
       "    <tr>\n",
       "      <th>381521</th>\n",
       "      <td>264</td>\n",
       "      <td>2</td>\n",
       "      <td>2014-07-29</td>\n",
       "      <td>6867</td>\n",
       "      <td>813</td>\n",
       "      <td>1</td>\n",
       "      <td>1</td>\n",
       "      <td>0</td>\n",
       "      <td>1</td>\n",
       "      <td>1</td>\n",
       "      <td>1</td>\n",
       "      <td>180</td>\n",
       "      <td>3</td>\n",
       "      <td>2014</td>\n",
       "      <td>0</td>\n",
       "      <td>NaN</td>\n",
       "      <td>NaN</td>\n",
       "      <td>NaN</td>\n",
       "    </tr>\n",
       "    <tr>\n",
       "      <th>777688</th>\n",
       "      <td>204</td>\n",
       "      <td>6</td>\n",
       "      <td>2013-08-03</td>\n",
       "      <td>4282</td>\n",
       "      <td>420</td>\n",
       "      <td>1</td>\n",
       "      <td>0</td>\n",
       "      <td>0</td>\n",
       "      <td>0</td>\n",
       "      <td>1</td>\n",
       "      <td>1</td>\n",
       "      <td>5630</td>\n",
       "      <td>12</td>\n",
       "      <td>2002</td>\n",
       "      <td>1</td>\n",
       "      <td>40</td>\n",
       "      <td>2014</td>\n",
       "      <td>Jan,Apr,Jul,Oct</td>\n",
       "    </tr>\n",
       "    <tr>\n",
       "      <th>45273</th>\n",
       "      <td>674</td>\n",
       "      <td>7</td>\n",
       "      <td>2015-06-21</td>\n",
       "      <td>0</td>\n",
       "      <td>0</td>\n",
       "      <td>0</td>\n",
       "      <td>0</td>\n",
       "      <td>0</td>\n",
       "      <td>0</td>\n",
       "      <td>1</td>\n",
       "      <td>1</td>\n",
       "      <td>2640</td>\n",
       "      <td>12</td>\n",
       "      <td>2005</td>\n",
       "      <td>1</td>\n",
       "      <td>31</td>\n",
       "      <td>2013</td>\n",
       "      <td>Feb,May,Aug,Nov</td>\n",
       "    </tr>\n",
       "    <tr>\n",
       "      <th>787151</th>\n",
       "      <td>747</td>\n",
       "      <td>5</td>\n",
       "      <td>2013-07-26</td>\n",
       "      <td>6283</td>\n",
       "      <td>599</td>\n",
       "      <td>1</td>\n",
       "      <td>0</td>\n",
       "      <td>0</td>\n",
       "      <td>1</td>\n",
       "      <td>3</td>\n",
       "      <td>3</td>\n",
       "      <td>45740</td>\n",
       "      <td>8</td>\n",
       "      <td>2008</td>\n",
       "      <td>0</td>\n",
       "      <td>NaN</td>\n",
       "      <td>NaN</td>\n",
       "      <td>NaN</td>\n",
       "    </tr>\n",
       "    <tr>\n",
       "      <th>511850</th>\n",
       "      <td>851</td>\n",
       "      <td>7</td>\n",
       "      <td>2014-03-30</td>\n",
       "      <td>0</td>\n",
       "      <td>0</td>\n",
       "      <td>0</td>\n",
       "      <td>0</td>\n",
       "      <td>0</td>\n",
       "      <td>0</td>\n",
       "      <td>4</td>\n",
       "      <td>3</td>\n",
       "      <td>2330</td>\n",
       "      <td>NaN</td>\n",
       "      <td>NaN</td>\n",
       "      <td>1</td>\n",
       "      <td>49</td>\n",
       "      <td>2014</td>\n",
       "      <td>Mar,Jun,Sept,Dec</td>\n",
       "    </tr>\n",
       "    <tr>\n",
       "      <th>948608</th>\n",
       "      <td>529</td>\n",
       "      <td>7</td>\n",
       "      <td>2013-03-03</td>\n",
       "      <td>0</td>\n",
       "      <td>0</td>\n",
       "      <td>0</td>\n",
       "      <td>0</td>\n",
       "      <td>0</td>\n",
       "      <td>0</td>\n",
       "      <td>4</td>\n",
       "      <td>3</td>\n",
       "      <td>12920</td>\n",
       "      <td>9</td>\n",
       "      <td>2012</td>\n",
       "      <td>0</td>\n",
       "      <td>NaN</td>\n",
       "      <td>NaN</td>\n",
       "      <td>NaN</td>\n",
       "    </tr>\n",
       "    <tr>\n",
       "      <th>428896</th>\n",
       "      <td>407</td>\n",
       "      <td>4</td>\n",
       "      <td>2014-06-12</td>\n",
       "      <td>3608</td>\n",
       "      <td>288</td>\n",
       "      <td>1</td>\n",
       "      <td>0</td>\n",
       "      <td>0</td>\n",
       "      <td>1</td>\n",
       "      <td>1</td>\n",
       "      <td>1</td>\n",
       "      <td>5890</td>\n",
       "      <td>10</td>\n",
       "      <td>2003</td>\n",
       "      <td>1</td>\n",
       "      <td>14</td>\n",
       "      <td>2011</td>\n",
       "      <td>Feb,May,Aug,Nov</td>\n",
       "    </tr>\n",
       "  </tbody>\n",
       "</table>\n",
       "</div>"
      ],
      "text/plain": [
       "        Store  DayOfWeek        Date  Sales  Customers  Open  Promo  \\\n",
       "830778    889          1  2013-06-17   4925        547     1      1   \n",
       "217695    271          6  2015-01-17   2821        286     1      0   \n",
       "85704     965          6  2015-05-16   6611        747     1      0   \n",
       "381521    264          2  2014-07-29   6867        813     1      1   \n",
       "777688    204          6  2013-08-03   4282        420     1      0   \n",
       "45273     674          7  2015-06-21      0          0     0      0   \n",
       "787151    747          5  2013-07-26   6283        599     1      0   \n",
       "511850    851          7  2014-03-30      0          0     0      0   \n",
       "948608    529          7  2013-03-03      0          0     0      0   \n",
       "428896    407          4  2014-06-12   3608        288     1      0   \n",
       "\n",
       "       StateHoliday  SchoolHoliday  StoreType  Assortment  \\\n",
       "830778            0              0          4           1   \n",
       "217695            0              0          1           1   \n",
       "85704             0              0          1           3   \n",
       "381521            0              1          1           1   \n",
       "777688            0              0          1           1   \n",
       "45273             0              0          1           1   \n",
       "787151            0              1          3           3   \n",
       "511850            0              0          4           3   \n",
       "948608            0              0          4           3   \n",
       "428896            0              1          1           1   \n",
       "\n",
       "        CompetitionDistance  CompetitionOpenSinceMonth  \\\n",
       "830778                18670                         12   \n",
       "217695                  420                        NaN   \n",
       "85704                   110                        NaN   \n",
       "381521                  180                          3   \n",
       "777688                 5630                         12   \n",
       "45273                  2640                         12   \n",
       "787151                45740                          8   \n",
       "511850                 2330                        NaN   \n",
       "948608                12920                          9   \n",
       "428896                 5890                         10   \n",
       "\n",
       "        CompetitionOpenSinceYear  Promo2  Promo2SinceWeek  Promo2SinceYear  \\\n",
       "830778                      2005       0              NaN              NaN   \n",
       "217695                       NaN       1               14             2011   \n",
       "85704                        NaN       0              NaN              NaN   \n",
       "381521                      2014       0              NaN              NaN   \n",
       "777688                      2002       1               40             2014   \n",
       "45273                       2005       1               31             2013   \n",
       "787151                      2008       0              NaN              NaN   \n",
       "511850                       NaN       1               49             2014   \n",
       "948608                      2012       0              NaN              NaN   \n",
       "428896                      2003       1               14             2011   \n",
       "\n",
       "           PromoInterval  \n",
       "830778               NaN  \n",
       "217695   Jan,Apr,Jul,Oct  \n",
       "85704                NaN  \n",
       "381521               NaN  \n",
       "777688   Jan,Apr,Jul,Oct  \n",
       "45273    Feb,May,Aug,Nov  \n",
       "787151               NaN  \n",
       "511850  Mar,Jun,Sept,Dec  \n",
       "948608               NaN  \n",
       "428896   Feb,May,Aug,Nov  "
      ]
     },
     "execution_count": 8,
     "metadata": {},
     "output_type": "execute_result"
    }
   ],
   "source": [
    "combined_tables.sample(10)"
   ]
  },
  {
   "cell_type": "code",
   "execution_count": 9,
   "metadata": {
    "collapsed": true
   },
   "outputs": [],
   "source": [
    "# now to look at data"
   ]
  },
  {
   "cell_type": "code",
   "execution_count": 10,
   "metadata": {
    "collapsed": false
   },
   "outputs": [],
   "source": [
    "small_table = combined_tables.sample(5000)"
   ]
  },
  {
   "cell_type": "code",
   "execution_count": 11,
   "metadata": {
    "collapsed": false
   },
   "outputs": [
    {
     "data": {
      "text/html": [
       "<div>\n",
       "<table border=\"1\" class=\"dataframe\">\n",
       "  <thead>\n",
       "    <tr style=\"text-align: right;\">\n",
       "      <th></th>\n",
       "      <th>Store</th>\n",
       "      <th>DayOfWeek</th>\n",
       "      <th>Date</th>\n",
       "      <th>Sales</th>\n",
       "      <th>Customers</th>\n",
       "      <th>Open</th>\n",
       "      <th>Promo</th>\n",
       "      <th>StateHoliday</th>\n",
       "      <th>SchoolHoliday</th>\n",
       "      <th>StoreType</th>\n",
       "      <th>Assortment</th>\n",
       "      <th>CompetitionDistance</th>\n",
       "      <th>CompetitionOpenSinceMonth</th>\n",
       "      <th>CompetitionOpenSinceYear</th>\n",
       "      <th>Promo2</th>\n",
       "      <th>Promo2SinceWeek</th>\n",
       "      <th>Promo2SinceYear</th>\n",
       "      <th>PromoInterval</th>\n",
       "    </tr>\n",
       "  </thead>\n",
       "  <tbody>\n",
       "    <tr>\n",
       "      <th>980901</th>\n",
       "      <td>487</td>\n",
       "      <td>6</td>\n",
       "      <td>2013-02-02</td>\n",
       "      <td>6346</td>\n",
       "      <td>710</td>\n",
       "      <td>1</td>\n",
       "      <td>0</td>\n",
       "      <td>0</td>\n",
       "      <td>0</td>\n",
       "      <td>4</td>\n",
       "      <td>3</td>\n",
       "      <td>2180</td>\n",
       "      <td>9</td>\n",
       "      <td>2012</td>\n",
       "      <td>1</td>\n",
       "      <td>40</td>\n",
       "      <td>2012</td>\n",
       "      <td>Jan,Apr,Jul,Oct</td>\n",
       "    </tr>\n",
       "    <tr>\n",
       "      <th>6264</th>\n",
       "      <td>690</td>\n",
       "      <td>7</td>\n",
       "      <td>2015-07-26</td>\n",
       "      <td>0</td>\n",
       "      <td>0</td>\n",
       "      <td>0</td>\n",
       "      <td>0</td>\n",
       "      <td>0</td>\n",
       "      <td>0</td>\n",
       "      <td>1</td>\n",
       "      <td>1</td>\n",
       "      <td>100</td>\n",
       "      <td>NaN</td>\n",
       "      <td>NaN</td>\n",
       "      <td>0</td>\n",
       "      <td>NaN</td>\n",
       "      <td>NaN</td>\n",
       "      <td>NaN</td>\n",
       "    </tr>\n",
       "  </tbody>\n",
       "</table>\n",
       "</div>"
      ],
      "text/plain": [
       "        Store  DayOfWeek        Date  Sales  Customers  Open  Promo  \\\n",
       "980901    487          6  2013-02-02   6346        710     1      0   \n",
       "6264      690          7  2015-07-26      0          0     0      0   \n",
       "\n",
       "       StateHoliday  SchoolHoliday  StoreType  Assortment  \\\n",
       "980901            0              0          4           3   \n",
       "6264              0              0          1           1   \n",
       "\n",
       "        CompetitionDistance  CompetitionOpenSinceMonth  \\\n",
       "980901                 2180                          9   \n",
       "6264                    100                        NaN   \n",
       "\n",
       "        CompetitionOpenSinceYear  Promo2  Promo2SinceWeek  Promo2SinceYear  \\\n",
       "980901                      2012       1               40             2012   \n",
       "6264                         NaN       0              NaN              NaN   \n",
       "\n",
       "          PromoInterval  \n",
       "980901  Jan,Apr,Jul,Oct  \n",
       "6264                NaN  "
      ]
     },
     "execution_count": 11,
     "metadata": {},
     "output_type": "execute_result"
    }
   ],
   "source": [
    "small_table.head(2)"
   ]
  },
  {
   "cell_type": "code",
   "execution_count": 12,
   "metadata": {
    "collapsed": false
   },
   "outputs": [
    {
     "data": {
      "text/plain": [
       "<matplotlib.collections.PathCollection at 0x114e5dd10>"
      ]
     },
     "execution_count": 12,
     "metadata": {},
     "output_type": "execute_result"
    },
    {
     "data": {
      "image/png": "[encoded data removed]",
      "text/plain": [
       "<matplotlib.figure.Figure at 0x114e34bd0>"
      ]
     },
     "metadata": {},
     "output_type": "display_data"
    }
   ],
   "source": [
    "plt.scatter(small_table['Customers'], small_table['Sales'])"
   ]
  },
  {
   "cell_type": "code",
   "execution_count": 13,
   "metadata": {
    "collapsed": false
   },
   "outputs": [
    {
     "data": {
      "text/plain": [
       "<matplotlib.collections.PathCollection at 0x10b07c550>"
      ]
     },
     "execution_count": 13,
     "metadata": {},
     "output_type": "execute_result"
    },
    {
     "data": {
      "image/png": "[encoded data removed]",
      "text/plain": [
       "<matplotlib.figure.Figure at 0x114e34d90>"
      ]
     },
     "metadata": {},
     "output_type": "display_data"
    }
   ],
   "source": [
    "# uhhh what is wrong with sunday\n",
    "plt.scatter(small_table['DayOfWeek'], small_table['Sales'])"
   ]
  },
  {
   "cell_type": "code",
   "execution_count": 14,
   "metadata": {
    "collapsed": false
   },
   "outputs": [
    {
     "data": {
      "text/plain": [
       "<matplotlib.collections.PathCollection at 0x10b03d210>"
      ]
     },
     "execution_count": 14,
     "metadata": {},
     "output_type": "execute_result"
    },
    {
     "data": {
      "image/png": "[encoded data removed]",
      "text/plain": [
       "<matplotlib.figure.Figure at 0x10b6d64d0>"
      ]
     },
     "metadata": {},
     "output_type": "display_data"
    }
   ],
   "source": [
    "# school holiday doesn't seem to happened a lot\n",
    "plt.scatter(small_table['SchoolHoliday'], small_table['Sales'])"
   ]
  },
  {
   "cell_type": "code",
   "execution_count": 15,
   "metadata": {
    "collapsed": false
   },
   "outputs": [
    {
     "data": {
      "text/plain": [
       "<matplotlib.collections.PathCollection at 0x10f015410>"
      ]
     },
     "execution_count": 15,
     "metadata": {},
     "output_type": "execute_result"
    },
    {
     "data": {
      "image/png": "[encoded data removed]",
      "text/plain": [
       "<matplotlib.figure.Figure at 0x10b081810>"
      ]
     },
     "metadata": {},
     "output_type": "display_data"
    }
   ],
   "source": [
    "# makes sense\n",
    "plt.scatter(small_table['Open'], small_table['Sales'])"
   ]
  },
  {
   "cell_type": "code",
   "execution_count": 16,
   "metadata": {
    "collapsed": false
   },
   "outputs": [
    {
     "data": {
      "text/plain": [
       "<matplotlib.collections.PathCollection at 0x10f108f50>"
      ]
     },
     "execution_count": 16,
     "metadata": {},
     "output_type": "execute_result"
    },
    {
     "data": {
      "image/png": "[encoded data removed]",
      "text/plain": [
       "<matplotlib.figure.Figure at 0x10f013ed0>"
      ]
     },
     "metadata": {},
     "output_type": "display_data"
    }
   ],
   "source": [
    "# weird competition distance seem to have no indication of result\n",
    "plt.scatter(small_table['CompetitionDistance'], small_table['Sales'])"
   ]
  },
  {
   "cell_type": "code",
   "execution_count": 17,
   "metadata": {
    "collapsed": false
   },
   "outputs": [
    {
     "data": {
      "text/plain": [
       "count    3400.000000\n",
       "mean     2008.705294\n",
       "std         6.243106\n",
       "min      1900.000000\n",
       "25%      2006.000000\n",
       "50%      2010.000000\n",
       "75%      2013.000000\n",
       "max      2015.000000\n",
       "Name: CompetitionOpenSinceYear, dtype: float64"
      ]
     },
     "execution_count": 17,
     "metadata": {},
     "output_type": "execute_result"
    }
   ],
   "source": [
    "small_table['CompetitionOpenSinceYear'].describe()"
   ]
  },
  {
   "cell_type": "code",
   "execution_count": 18,
   "metadata": {
    "collapsed": false
   },
   "outputs": [
    {
     "data": {
      "text/plain": [
       "<matplotlib.collections.PathCollection at 0x10f1cfc90>"
      ]
     },
     "execution_count": 18,
     "metadata": {},
     "output_type": "execute_result"
    },
    {
     "data": {
      "image/png": "[encoded data removed]",
      "text/plain": [
       "<matplotlib.figure.Figure at 0x10f0db190>"
      ]
     },
     "metadata": {},
     "output_type": "display_data"
    }
   ],
   "source": [
    "# this is useless, need to generate feature for CompetitionYearsOpen\n",
    "plt.scatter(small_table['CompetitionOpenSinceYear'], small_table['Sales'])"
   ]
  },
  {
   "cell_type": "code",
   "execution_count": 19,
   "metadata": {
    "collapsed": false
   },
   "outputs": [
    {
     "data": {
      "text/plain": [
       "<matplotlib.collections.PathCollection at 0x10f1d60d0>"
      ]
     },
     "execution_count": 19,
     "metadata": {},
     "output_type": "execute_result"
    },
    {
     "data": {
      "image/png": "[encoded data removed]",
      "text/plain": [
       "<matplotlib.figure.Figure at 0x114e6c150>"
      ]
     },
     "metadata": {},
     "output_type": "display_data"
    }
   ],
   "source": [
    "# well tiny tiny difference\n",
    "plt.scatter(small_table['Promo2'], small_table['Sales'])"
   ]
  },
  {
   "cell_type": "code",
   "execution_count": 20,
   "metadata": {
    "collapsed": false
   },
   "outputs": [
    {
     "data": {
      "text/plain": [
       "<matplotlib.collections.PathCollection at 0x10f28c2d0>"
      ]
     },
     "execution_count": 20,
     "metadata": {},
     "output_type": "execute_result"
    },
    {
     "data": {
      "image/png": "[encoded data removed]",
      "text/plain": [
       "<matplotlib.figure.Figure at 0x10f0cb2d0>"
      ]
     },
     "metadata": {},
     "output_type": "display_data"
    }
   ],
   "source": [
    "plt.scatter(small_table['Assortment'], small_table['Sales'])"
   ]
  },
  {
   "cell_type": "code",
   "execution_count": 21,
   "metadata": {
    "collapsed": false
   },
   "outputs": [
    {
     "data": {
      "text/plain": [
       "<matplotlib.collections.PathCollection at 0x10f464910>"
      ]
     },
     "execution_count": 21,
     "metadata": {},
     "output_type": "execute_result"
    },
    {
     "data": {
      "image/png": "[encoded data removed]",
      "text/plain": [
       "<matplotlib.figure.Figure at 0x10b742ed0>"
      ]
     },
     "metadata": {},
     "output_type": "display_data"
    }
   ],
   "source": [
    "# a lot of these features need to be applied together\n",
    "plt.scatter(small_table['StoreType'], small_table['Sales'])"
   ]
  },
  {
   "cell_type": "code",
   "execution_count": 23,
   "metadata": {
    "collapsed": false
   },
   "outputs": [
    {
     "data": {
      "text/plain": [
       "array(['Jan,Apr,Jul,Oct', nan, 'Mar,Jun,Sept,Dec', 'Feb,May,Aug,Nov'], dtype=object)"
      ]
     },
     "execution_count": 23,
     "metadata": {},
     "output_type": "execute_result"
    }
   ],
   "source": [
    "small_table.PromoInterval.unique()"
   ]
  },
  {
   "cell_type": "code",
   "execution_count": 26,
   "metadata": {
    "collapsed": false
   },
   "outputs": [
    {
     "data": {
      "text/plain": [
       "array(['2015-07-31', '2015-07-30', '2015-07-29', '2015-07-28',\n",
       "       '2015-07-27', '2015-07-26', '2015-07-25', '2015-07-24',\n",
       "       '2015-07-23', '2015-07-22', '2015-07-21', '2015-07-20',\n",
       "       '2015-07-19', '2015-07-18', '2015-07-17', '2015-07-16',\n",
       "       '2015-07-15', '2015-07-14', '2015-07-13', '2015-07-12',\n",
       "       '2015-07-11', '2015-07-10', '2015-07-09', '2015-07-08',\n",
       "       '2015-07-07', '2015-07-06', '2015-07-05', '2015-07-04',\n",
       "       '2015-07-03', '2015-07-02', '2015-07-01', '2015-06-30',\n",
       "       '2015-06-29', '2015-06-28', '2015-06-27', '2015-06-26',\n",
       "       '2015-06-25', '2015-06-24', '2015-06-23', '2015-06-22',\n",
       "       '2015-06-21', '2015-06-20', '2015-06-19', '2015-06-18',\n",
       "       '2015-06-17', '2015-06-16', '2015-06-15', '2015-06-14',\n",
       "       '2015-06-13', '2015-06-12', '2015-06-11', '2015-06-10',\n",
       "       '2015-06-09', '2015-06-08', '2015-06-07', '2015-06-06',\n",
       "       '2015-06-05', '2015-06-04', '2015-06-03', '2015-06-02',\n",
       "       '2015-06-01', '2015-05-31', '2015-05-30', '2015-05-29',\n",
       "       '2015-05-28', '2015-05-27', '2015-05-26', '2015-05-25',\n",
       "       '2015-05-24', '2015-05-23', '2015-05-22', '2015-05-21',\n",
       "       '2015-05-20', '2015-05-19', '2015-05-18', '2015-05-17',\n",
       "       '2015-05-16', '2015-05-15', '2015-05-14', '2015-05-13',\n",
       "       '2015-05-12', '2015-05-11', '2015-05-10', '2015-05-09',\n",
       "       '2015-05-08', '2015-05-07', '2015-05-06', '2015-05-05',\n",
       "       '2015-05-04', '2015-05-03', '2015-05-02', '2015-05-01',\n",
       "       '2015-04-30', '2015-04-29', '2015-04-28', '2015-04-27',\n",
       "       '2015-04-26', '2015-04-25', '2015-04-24', '2015-04-23',\n",
       "       '2015-04-22', '2015-04-21', '2015-04-20', '2015-04-19',\n",
       "       '2015-04-18', '2015-04-17', '2015-04-16', '2015-04-15',\n",
       "       '2015-04-14', '2015-04-13', '2015-04-12', '2015-04-11',\n",
       "       '2015-04-10', '2015-04-09', '2015-04-08', '2015-04-07',\n",
       "       '2015-04-06', '2015-04-05', '2015-04-04', '2015-04-03',\n",
       "       '2015-04-02', '2015-04-01', '2015-03-31', '2015-03-30',\n",
       "       '2015-03-29', '2015-03-28', '2015-03-27', '2015-03-26',\n",
       "       '2015-03-25', '2015-03-24', '2015-03-23', '2015-03-22',\n",
       "       '2015-03-21', '2015-03-20', '2015-03-19', '2015-03-18',\n",
       "       '2015-03-17', '2015-03-16', '2015-03-15', '2015-03-14',\n",
       "       '2015-03-13', '2015-03-12', '2015-03-11', '2015-03-10',\n",
       "       '2015-03-09', '2015-03-08', '2015-03-07', '2015-03-06',\n",
       "       '2015-03-05', '2015-03-04', '2015-03-03', '2015-03-02',\n",
       "       '2015-03-01', '2015-02-28', '2015-02-27', '2015-02-26',\n",
       "       '2015-02-25', '2015-02-24', '2015-02-23', '2015-02-22',\n",
       "       '2015-02-21', '2015-02-20', '2015-02-19', '2015-02-18',\n",
       "       '2015-02-17', '2015-02-16', '2015-02-15', '2015-02-14',\n",
       "       '2015-02-13', '2015-02-12', '2015-02-11', '2015-02-10',\n",
       "       '2015-02-09', '2015-02-08', '2015-02-07', '2015-02-06',\n",
       "       '2015-02-05', '2015-02-04', '2015-02-03', '2015-02-02',\n",
       "       '2015-02-01', '2015-01-31', '2015-01-30', '2015-01-29',\n",
       "       '2015-01-28', '2015-01-27', '2015-01-26', '2015-01-25',\n",
       "       '2015-01-24', '2015-01-23', '2015-01-22', '2015-01-21',\n",
       "       '2015-01-20', '2015-01-19', '2015-01-18', '2015-01-17',\n",
       "       '2015-01-16', '2015-01-15', '2015-01-14', '2015-01-13',\n",
       "       '2015-01-12', '2015-01-11', '2015-01-10', '2015-01-09',\n",
       "       '2015-01-08', '2015-01-07', '2015-01-06', '2015-01-05',\n",
       "       '2015-01-04', '2015-01-03', '2015-01-02', '2015-01-01',\n",
       "       '2014-12-31', '2014-12-30', '2014-12-29', '2014-12-28',\n",
       "       '2014-12-27', '2014-12-26', '2014-12-25', '2014-12-24',\n",
       "       '2014-12-23', '2014-12-22', '2014-12-21', '2014-12-20',\n",
       "       '2014-12-19', '2014-12-18', '2014-12-17', '2014-12-16',\n",
       "       '2014-12-15', '2014-12-14', '2014-12-13', '2014-12-12',\n",
       "       '2014-12-11', '2014-12-10', '2014-12-09', '2014-12-08',\n",
       "       '2014-12-07', '2014-12-06', '2014-12-05', '2014-12-04',\n",
       "       '2014-12-03', '2014-12-02', '2014-12-01', '2014-11-30',\n",
       "       '2014-11-29', '2014-11-28', '2014-11-27', '2014-11-26',\n",
       "       '2014-11-25', '2014-11-24', '2014-11-23', '2014-11-22',\n",
       "       '2014-11-21', '2014-11-20', '2014-11-19', '2014-11-18',\n",
       "       '2014-11-17', '2014-11-16', '2014-11-15', '2014-11-14',\n",
       "       '2014-11-13', '2014-11-12', '2014-11-11', '2014-11-10',\n",
       "       '2014-11-09', '2014-11-08', '2014-11-07', '2014-11-06',\n",
       "       '2014-11-05', '2014-11-04', '2014-11-03', '2014-11-02',\n",
       "       '2014-11-01', '2014-10-31', '2014-10-30', '2014-10-29',\n",
       "       '2014-10-28', '2014-10-27', '2014-10-26', '2014-10-25',\n",
       "       '2014-10-24', '2014-10-23', '2014-10-22', '2014-10-21',\n",
       "       '2014-10-20', '2014-10-19', '2014-10-18', '2014-10-17',\n",
       "       '2014-10-16', '2014-10-15', '2014-10-14', '2014-10-13',\n",
       "       '2014-10-12', '2014-10-11', '2014-10-10', '2014-10-09',\n",
       "       '2014-10-08', '2014-10-07', '2014-10-06', '2014-10-05',\n",
       "       '2014-10-04', '2014-10-03', '2014-10-02', '2014-10-01',\n",
       "       '2014-09-30', '2014-09-29', '2014-09-28', '2014-09-27',\n",
       "       '2014-09-26', '2014-09-25', '2014-07-17', '2014-07-16',\n",
       "       '2014-07-15', '2014-07-14', '2014-07-13', '2014-07-12',\n",
       "       '2014-07-11', '2014-07-10', '2014-07-09', '2014-07-08',\n",
       "       '2014-07-07', '2014-07-06', '2014-07-05', '2014-07-04',\n",
       "       '2014-07-03', '2014-07-02', '2014-07-01', '2014-06-30',\n",
       "       '2014-06-29', '2014-06-28', '2014-06-27', '2014-06-26',\n",
       "       '2014-06-25', '2014-06-24', '2014-06-23', '2014-06-22',\n",
       "       '2014-06-21', '2014-06-20', '2014-06-19', '2014-06-18',\n",
       "       '2014-06-17', '2014-06-16', '2014-06-15', '2014-06-14',\n",
       "       '2014-06-13', '2014-06-12', '2014-06-11', '2014-06-10',\n",
       "       '2014-06-09', '2014-06-08', '2014-06-07', '2014-06-06',\n",
       "       '2014-06-05', '2014-06-04', '2014-06-03', '2014-06-02',\n",
       "       '2014-06-01', '2014-05-31', '2014-05-30', '2014-05-29',\n",
       "       '2014-05-28', '2014-05-27', '2014-05-26', '2014-05-25',\n",
       "       '2014-05-24', '2014-05-23', '2014-05-22', '2014-05-21',\n",
       "       '2014-05-20', '2014-05-19', '2014-05-18', '2014-05-17',\n",
       "       '2014-05-16', '2014-05-15', '2014-05-14', '2014-05-13',\n",
       "       '2014-05-12', '2014-05-11', '2014-05-10', '2014-05-09',\n",
       "       '2014-05-08', '2014-05-07', '2014-05-06', '2014-05-05',\n",
       "       '2014-05-04', '2014-05-03', '2014-05-02', '2014-05-01',\n",
       "       '2014-04-30', '2014-04-29', '2014-04-28', '2014-04-27',\n",
       "       '2014-04-26', '2014-04-25', '2014-04-24', '2014-04-23',\n",
       "       '2014-04-22', '2014-04-21', '2014-04-20', '2014-04-19',\n",
       "       '2014-04-18', '2014-04-17', '2014-04-16', '2014-04-15',\n",
       "       '2014-04-14', '2014-04-13', '2014-04-12', '2014-04-11',\n",
       "       '2014-04-10', '2014-04-09', '2014-04-08', '2014-04-07',\n",
       "       '2014-04-06', '2014-04-05', '2014-04-04', '2014-04-03',\n",
       "       '2014-04-02', '2014-04-01', '2014-03-31', '2014-03-30',\n",
       "       '2014-03-29', '2014-03-28', '2014-03-27', '2014-03-26',\n",
       "       '2014-03-25', '2014-03-24', '2014-03-23', '2014-03-22',\n",
       "       '2014-03-21', '2014-03-20', '2014-03-19', '2014-01-19',\n",
       "       '2014-01-18', '2014-01-17', '2014-01-16', '2014-01-15',\n",
       "       '2014-01-14', '2014-01-13', '2014-01-12', '2014-01-11',\n",
       "       '2014-01-10', '2014-01-09', '2014-01-08', '2014-01-07',\n",
       "       '2014-01-06', '2014-01-05', '2014-01-04', '2014-01-03',\n",
       "       '2014-01-02', '2014-01-01', '2013-12-31', '2013-12-30',\n",
       "       '2013-12-29', '2013-12-28', '2013-12-27', '2013-12-26',\n",
       "       '2013-12-25', '2013-12-24', '2013-12-23', '2013-12-22',\n",
       "       '2013-12-21', '2013-12-20', '2013-12-19', '2013-12-18',\n",
       "       '2013-12-17', '2013-12-16', '2013-12-15', '2013-12-14',\n",
       "       '2013-12-13', '2013-12-12', '2013-12-11', '2013-12-10',\n",
       "       '2013-12-09', '2013-12-08', '2013-12-07', '2013-12-06',\n",
       "       '2013-12-05', '2013-12-04', '2013-12-03', '2013-12-02',\n",
       "       '2013-12-01', '2013-11-30', '2013-11-29', '2013-11-28',\n",
       "       '2013-11-27', '2013-11-26', '2013-11-25', '2013-11-24',\n",
       "       '2013-11-23', '2013-11-22', '2013-11-21', '2013-11-20',\n",
       "       '2013-11-19', '2013-11-18', '2013-11-17', '2013-11-16',\n",
       "       '2013-11-15', '2013-11-14', '2013-11-13', '2013-11-12',\n",
       "       '2013-11-11', '2013-11-10', '2013-11-09', '2013-11-08',\n",
       "       '2013-11-07', '2013-11-06', '2013-11-05', '2013-11-04',\n",
       "       '2013-11-03', '2013-11-02', '2013-11-01', '2013-10-31',\n",
       "       '2013-10-30', '2013-10-29', '2013-10-28', '2013-10-27',\n",
       "       '2013-10-26', '2013-10-25', '2013-10-24', '2013-10-23',\n",
       "       '2013-10-22', '2013-10-21', '2013-10-20', '2013-10-19',\n",
       "       '2013-10-18', '2013-10-17', '2013-10-16', '2013-10-15',\n",
       "       '2013-10-14', '2013-10-13', '2013-10-12', '2013-10-11',\n",
       "       '2013-10-10', '2013-10-09', '2013-10-08', '2013-10-07',\n",
       "       '2013-10-06', '2013-10-05', '2013-10-04', '2013-10-03',\n",
       "       '2013-10-02', '2013-10-01', '2013-09-30', '2013-09-29',\n",
       "       '2013-09-28', '2013-09-27', '2013-09-26', '2013-09-25',\n",
       "       '2013-09-24', '2013-09-23', '2013-09-22', '2013-09-21',\n",
       "       '2013-09-20', '2013-09-19', '2013-09-18', '2013-09-17',\n",
       "       '2013-09-16', '2013-09-15', '2013-09-14', '2013-09-13',\n",
       "       '2013-09-12', '2013-09-11', '2013-09-10', '2013-09-09',\n",
       "       '2013-09-08', '2013-09-07', '2013-09-06', '2013-09-05',\n",
       "       '2013-09-04', '2013-09-03', '2013-09-02', '2013-09-01',\n",
       "       '2013-08-31', '2013-08-30', '2013-08-29', '2013-08-28',\n",
       "       '2013-08-27', '2013-08-26', '2013-08-25', '2013-08-24',\n",
       "       '2013-08-23', '2013-08-22', '2013-08-21', '2013-08-20',\n",
       "       '2013-08-19', '2013-08-18', '2013-08-17', '2013-08-16',\n",
       "       '2013-08-15', '2013-08-14', '2013-08-13', '2013-08-12',\n",
       "       '2013-08-11', '2013-08-10', '2013-08-09', '2013-08-08',\n",
       "       '2013-08-07', '2013-08-06', '2013-08-05', '2013-08-04',\n",
       "       '2013-08-03', '2013-08-02', '2013-08-01', '2013-07-31',\n",
       "       '2013-07-30', '2013-07-29', '2013-07-28', '2013-07-27',\n",
       "       '2013-07-26', '2013-07-25', '2013-07-24', '2013-07-23',\n",
       "       '2013-07-22', '2013-07-21', '2013-07-20', '2013-07-19',\n",
       "       '2013-07-18', '2013-07-17', '2013-07-16', '2013-07-15',\n",
       "       '2013-07-14', '2013-07-13', '2013-07-12', '2013-07-11',\n",
       "       '2013-07-10', '2013-07-09', '2013-07-08', '2013-07-07',\n",
       "       '2013-07-06', '2013-07-05', '2013-07-04', '2013-07-03',\n",
       "       '2013-07-02', '2013-07-01', '2013-06-30', '2013-06-29',\n",
       "       '2013-06-28', '2013-06-27', '2013-06-26', '2013-06-25',\n",
       "       '2013-06-24', '2013-06-23', '2013-06-22', '2013-06-21',\n",
       "       '2013-06-20', '2013-06-19', '2013-06-18', '2013-06-17',\n",
       "       '2013-06-16', '2013-06-15', '2013-06-14', '2013-06-13',\n",
       "       '2013-06-12', '2013-06-11', '2013-06-10', '2013-06-09',\n",
       "       '2013-06-08', '2013-06-07', '2013-06-06', '2013-06-05',\n",
       "       '2013-06-04', '2013-06-03', '2013-06-02', '2013-06-01',\n",
       "       '2013-05-31', '2013-05-30', '2013-05-29', '2013-05-28',\n",
       "       '2013-05-27', '2013-05-26', '2013-05-25', '2013-05-24',\n",
       "       '2013-05-23', '2013-05-22', '2013-05-21', '2013-05-20',\n",
       "       '2013-05-19', '2013-05-18', '2013-05-17', '2013-05-16',\n",
       "       '2013-05-15', '2013-05-14', '2013-05-13', '2013-05-12',\n",
       "       '2013-05-11', '2013-05-10', '2013-05-09', '2013-05-08',\n",
       "       '2013-05-07', '2013-05-06', '2013-05-05', '2013-05-04',\n",
       "       '2013-05-03', '2013-05-02', '2013-05-01', '2013-04-30',\n",
       "       '2013-04-29', '2013-04-28', '2013-04-27', '2013-04-26',\n",
       "       '2013-04-25', '2013-04-24', '2013-04-23', '2013-04-22',\n",
       "       '2013-04-21', '2013-04-20', '2013-04-19', '2013-04-18',\n",
       "       '2013-04-17', '2013-04-16', '2013-04-15', '2013-04-14',\n",
       "       '2013-04-13', '2013-04-12', '2013-04-11', '2013-04-10',\n",
       "       '2013-04-09', '2013-04-08', '2013-04-07', '2013-04-06',\n",
       "       '2013-04-05', '2013-04-04', '2013-04-03', '2013-04-02',\n",
       "       '2013-04-01', '2013-03-31', '2013-03-30', '2013-03-29',\n",
       "       '2013-03-28', '2013-03-27', '2013-03-26', '2013-03-25',\n",
       "       '2013-03-24', '2013-03-23', '2013-03-22', '2013-03-21',\n",
       "       '2013-03-20', '2013-03-19', '2013-03-18', '2013-03-17',\n",
       "       '2013-03-16', '2013-03-15', '2013-03-14', '2013-03-13',\n",
       "       '2013-03-12', '2013-03-11', '2013-03-10', '2013-03-09',\n",
       "       '2013-03-08', '2013-03-07', '2013-03-06', '2013-03-05',\n",
       "       '2013-03-04', '2013-03-03', '2013-03-02', '2013-03-01',\n",
       "       '2013-02-28', '2013-02-27', '2013-02-26', '2013-02-25',\n",
       "       '2013-02-24', '2013-02-23', '2013-02-22', '2013-02-21',\n",
       "       '2013-02-20', '2013-02-19', '2013-02-18', '2013-02-17',\n",
       "       '2013-02-16', '2013-02-15', '2013-02-14', '2013-02-13',\n",
       "       '2013-02-12', '2013-02-11', '2013-02-10', '2013-02-09',\n",
       "       '2013-02-08', '2013-02-07', '2013-02-06', '2013-02-05',\n",
       "       '2013-02-04', '2013-02-03', '2013-02-02', '2013-02-01',\n",
       "       '2013-01-31', '2013-01-30', '2013-01-29', '2013-01-28',\n",
       "       '2013-01-27', '2013-01-26', '2013-01-25', '2013-01-24',\n",
       "       '2013-01-23', '2013-01-22', '2013-01-21', '2013-01-20',\n",
       "       '2013-01-19', '2013-01-18', '2013-01-17', '2013-01-16',\n",
       "       '2013-01-15', '2013-01-14', '2013-01-13', '2013-01-12',\n",
       "       '2013-01-11', '2013-01-10', '2013-01-09', '2013-01-08',\n",
       "       '2013-01-07', '2013-01-06', '2013-01-05', '2013-01-04',\n",
       "       '2013-01-03', '2013-01-02', '2013-01-01'], dtype=object)"
      ]
     },
     "execution_count": 26,
     "metadata": {},
     "output_type": "execute_result"
    }
   ],
   "source": [
    "combined_tables[(combined_tables.StateHoliday != 0)].unique()"
   ]
  },
  {
   "cell_type": "code",
   "execution_count": null,
   "metadata": {
    "collapsed": true
   },
   "outputs": [],
   "source": []
  }
 ],
 "metadata": {
  "kernelspec": {
   "display_name": "Python 2",
   "language": "python",
   "name": "python2"
  },
  "language_info": {
   "codemirror_mode": {
    "name": "ipython",
    "version": 2
   },
   "file_extension": ".py",
   "mimetype": "text/x-python",
   "name": "python",
   "nbconvert_exporter": "python",
   "pygments_lexer": "ipython2",
   "version": "2.7.5"
  }
 },
 "nbformat": 4,
 "nbformat_minor": 0
}
