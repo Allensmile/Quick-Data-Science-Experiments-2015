{
 "cells": [
  {
   "cell_type": "code",
   "execution_count": null,
   "metadata": {
    "collapsed": true
   },
   "outputs": [],
   "source": [
    "['Store' 'CompetitionDistance' 'Promo' 'Promo2' 'SchoolHoliday' 'StoreType'\n",
    " 'Assortment' 'StateHoliday' 'DayOfWeek' 'Month' 'Day' 'Year' 'WeekOfYear'\n",
    " 'CompetitionOpen' 'PromoOpen' 'IsPromoMonth' 'IsPromoNextMonth']\n",
    "\n",
    "[619]\ttrain-rmspe:0.059834\teval-rmspe:0.098667\n",
    "\n",
    "Validating\n",
    "RMSPE: 832.716126\n",
    "                feature    fscore\n",
    "0          StateHoliday  0.001424\n",
    "1                Promo2  0.005549\n",
    "2      IsPromoNextMonth  0.009250\n",
    "3          IsPromoMonth  0.010512\n",
    "4            Assortment  0.017641\n",
    "5                  Year  0.019849\n",
    "6         SchoolHoliday  0.022389\n",
    "7             StoreType  0.023831\n",
    "8                 Promo  0.030471\n",
    "9                 Month  0.052836\n",
    "10           WeekOfYear  0.086630\n",
    "11            DayOfWeek  0.098636\n",
    "12  CompetitionDistance  0.109306\n",
    "13      CompetitionOpen  0.114997\n",
    "14                Store  0.124012\n",
    "15            PromoOpen  0.130155\n",
    "16                  Day  0.142511"
   ]
  },
  {
   "cell_type": "code",
   "execution_count": null,
   "metadata": {
    "collapsed": true
   },
   "outputs": [],
   "source": [
    "['Store' 'CompetitionDistance' 'Promo' 'Promo2' 'SchoolHoliday'\n",
    " 'CompetitionOpenSinceMonth' 'CompetitionOpenSinceYear' 'Promo2SinceWeek'\n",
    " 'Promo2SinceYear' 'StoreType' 'Assortment' 'StateHoliday' 'DayOfWeek'\n",
    " 'Month' 'Day' 'Year' 'WeekOfYear' 'CompetitionOpen' 'PromoOpen'\n",
    " 'IsPromoMonth' 'IsPromoNextMonth' 'WasPromoLastMonth']\n",
    "\n",
    "[626]\ttrain-rmspe:0.057504\teval-rmspe:0.098671\n",
    "\n",
    "Validating\n",
    "RMSPE: 833.205454\n",
    "                      feature    fscore\n",
    "0                StateHoliday  0.001313\n",
    "1                      Promo2  0.002012\n",
    "2           WasPromoLastMonth  0.007379\n",
    "3                IsPromoMonth  0.007428\n",
    "4            IsPromoNextMonth  0.007706\n",
    "5                  Assortment  0.011490\n",
    "6             Promo2SinceYear  0.012607\n",
    "7                   StoreType  0.016098\n",
    "8                        Year  0.017186\n",
    "9               SchoolHoliday  0.018896\n",
    "10            Promo2SinceWeek  0.024496\n",
    "11   CompetitionOpenSinceYear  0.024913\n",
    "12                      Promo  0.031968\n",
    "13  CompetitionOpenSinceMonth  0.033836\n",
    "14                      Month  0.045183\n",
    "15                 WeekOfYear  0.082624\n",
    "16        CompetitionDistance  0.093729\n",
    "17            CompetitionOpen  0.097942\n",
    "18                  DayOfWeek  0.098310\n",
    "19                  PromoOpen  0.106364\n",
    "20                      Store  0.108434\n",
    "21                        Day  0.150085"
   ]
  },
  {
   "cell_type": "code",
   "execution_count": null,
   "metadata": {
    "collapsed": true
   },
   "outputs": [],
   "source": [
    "max depth_num_rounds\n",
    "\n",
    "{'14_350': 0.099469979060329977, '16_350': 0.10074372812160576, '12_250': 0.094829669125368263, \n",
    " '14_250': 0.098826844297627364, '16_250': 0.10074372812160576, '14_300': 0.099157629798324196, \n",
    " '12_350': 0.094449717381497419, '12_300': 0.094470507601169193, '16_300': 0.10074372812160576}\n",
    "best is 12_350"
   ]
  }
 ],
 "metadata": {
  "kernelspec": {
   "display_name": "Python 2",
   "language": "python",
   "name": "python2"
  },
  "language_info": {
   "codemirror_mode": {
    "name": "ipython",
    "version": 2
   },
   "file_extension": ".py",
   "mimetype": "text/x-python",
   "name": "python",
   "nbconvert_exporter": "python",
   "pygments_lexer": "ipython2",
   "version": "2.7.10"
  }
 },
 "nbformat": 4,
 "nbformat_minor": 0
}
