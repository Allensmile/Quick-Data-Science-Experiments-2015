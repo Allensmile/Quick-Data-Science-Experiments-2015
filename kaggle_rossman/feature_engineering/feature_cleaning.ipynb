{
 "cells": [
  {
   "cell_type": "code",
   "execution_count": 1,
   "metadata": {
    "collapsed": true
   },
   "outputs": [],
   "source": [
    "import numpy as np\n",
    "import pandas as pd\n",
    "import matplotlib.pyplot as plt\n",
    "%matplotlib inline"
   ]
  },
  {
   "cell_type": "code",
   "execution_count": 16,
   "metadata": {
    "collapsed": true
   },
   "outputs": [],
   "source": [
    "def formatFeature(features, data):\n",
    "    data.fillna(0, inplace=True)\n",
    "    data.loc[data.Open.isnull(), 'Open'] = 1\n",
    "    features += ['Store', 'CompetitionDistance', 'Promo', 'Promo2', 'SchoolHoliday', \\\n",
    "                 'CompetitionOpenSinceMonth', 'CompetitionOpenSinceYear', 'Promo2SinceWeek',\\\n",
    "                 'Promo2SinceYear']\n",
    "\n",
    "    features.extend(['StoreType', 'Assortment', 'StateHoliday'])\n",
    "    mappings = {'0':0, 'a':1, 'b':2, 'c':3, 'd':4}\n",
    "    data.StoreType.replace(mappings, inplace=True)\n",
    "    data.Assortment.replace(mappings, inplace=True)\n",
    "    data.StateHoliday.replace(mappings, inplace=True)\n",
    "    \n",
    "    features.extend(['DayOfWeek', 'Month', 'Day', 'Year', 'WeekOfYear'])\n",
    "    data['Year'] = data.Date.dt.year\n",
    "    data['Month'] = data.Date.dt.month\n",
    "    data['Day'] = data.Date.dt.day\n",
    "    data['DayOfWeek'] = data.Date.dt.dayofweek\n",
    "    data['WeekOfYear'] = data.Date.dt.weekofyear\n",
    "    \n",
    "    features.append('CompetitionOpen')\n",
    "    data['CompetitionOpen'] = 12 * (data.Year - data.CompetitionOpenSinceYear) + \\\n",
    "        (data.Month - data.CompetitionOpenSinceMonth)\n",
    "    features.append('PromoOpen')\n",
    "    data['PromoOpen'] = 12 * (data.Year - data.Promo2SinceYear) + \\\n",
    "        (data.WeekOfYear - data.Promo2SinceWeek) / 4.0\n",
    "    data['PromoOpen'] = data.PromoOpen.apply(lambda x: x if x > 0 else 0)\n",
    "    \n",
    "    features.extend(['IsPromoMonth', 'IsPromoNextMonth', 'WasPromoLastMonth'])\n",
    "    month2str = {1:'Jan', 2:'Feb', 3:'Mar', 4:'Apr', 5:'May', 6:'Jun', \\\n",
    "             7:'Jul', 8:'Aug', 9:'Sept', 10:'Oct', 11:'Nov', 12:'Dec'}\n",
    "    data['monthStr'] = data.Month.map(month2str)\n",
    "    data['NextMonth'] = data.Month + 1\n",
    "    data['LastMonth'] = data.Month - 1\n",
    "    data['nextMonthStr'] = data.NextMonth.map(month2str)\n",
    "    data['lastMonthStr'] = data.LastMonth.map(month2str)\n",
    "    data.loc[data.PromoInterval == 0, 'PromoInterval'] = ''\n",
    "    data['IsPromoMonth'] = 0\n",
    "    data['IsPromoNextMonth'] = 0\n",
    "    data['WasPromoLastMonth'] = 0\n",
    "    for interval in data.PromoInterval.unique():\n",
    "        if interval != '':\n",
    "            for month in interval.split(','):\n",
    "                data.loc[(data.monthStr == month) & (data.PromoInterval == interval),\\\n",
    "                         'IsPromoMonth'] = 1\n",
    "                data.loc[(data.nextMonthStr == month) & (data.PromoInterval == interval),\\\n",
    "                         'IsPromoNextMonth'] = 1\n",
    "                data.loc[(data.lastMonthStr == month) & (data.PromoInterval == interval),\\\n",
    "                         'WasPromoLastMonth'] = 1\n",
    "    "
   ]
  },
  {
   "cell_type": "code",
   "execution_count": 17,
   "metadata": {
    "collapsed": false
   },
   "outputs": [],
   "source": [
    "# googleTrends = pd.read_csv(\"../data/Rossmann_DE.csv\")\n",
    "# googleTrends"
   ]
  },
  {
   "cell_type": "code",
   "execution_count": 18,
   "metadata": {
    "collapsed": true
   },
   "outputs": [],
   "source": [
    "types = {'CompetitionOpenSinceYear': np.dtype(int),\n",
    "         'CompetitionOpenSinceMonth': np.dtype(int),\n",
    "         'StateHoliday': np.dtype(str),\n",
    "         'Promo2SinceWeek': np.dtype(int),\n",
    "         'SchoolHoliday': np.dtype(float),\n",
    "         'PromoInterval': np.dtype(str)}\n",
    "train = pd.read_csv(\"../data/train.csv\", parse_dates=[2], dtype=types)\n",
    "test = pd.read_csv(\"../data/test.csv\", parse_dates=[3], dtype=types)\n",
    "store = pd.read_csv(\"../data/store.csv\")\n",
    "\n",
    "train.fillna(1, inplace=True)\n",
    "test.fillna(1, inplace=True)\n",
    "\n",
    "# Consider only open stores for training. Closed stores wont count into the score.\n",
    "train = train[train[\"Open\"] != 0]\n",
    "# Use only Sales bigger then zero. Simplifies calculation of rmspe\n",
    "train = train[train[\"Sales\"] > 0]"
   ]
  },
  {
   "cell_type": "code",
   "execution_count": 19,
   "metadata": {
    "collapsed": false
   },
   "outputs": [],
   "source": [
    "train = pd.merge(train, store, on='Store')\n",
    "test = pd.merge(test, store, on='Store')\n",
    "\n",
    "features = []\n",
    "formatFeature(features, train)\n",
    "formatFeature([], test)"
   ]
  },
  {
   "cell_type": "code",
   "execution_count": 20,
   "metadata": {
    "collapsed": false
   },
   "outputs": [
    {
     "data": {
      "text/html": [
       "<div>\n",
       "<table border=\"1\" class=\"dataframe\">\n",
       "  <thead>\n",
       "    <tr style=\"text-align: right;\">\n",
       "      <th></th>\n",
       "      <th>Store</th>\n",
       "      <th>CompetitionDistance</th>\n",
       "      <th>Promo</th>\n",
       "      <th>Promo2</th>\n",
       "      <th>SchoolHoliday</th>\n",
       "      <th>CompetitionOpenSinceMonth</th>\n",
       "      <th>CompetitionOpenSinceYear</th>\n",
       "      <th>Promo2SinceWeek</th>\n",
       "      <th>Promo2SinceYear</th>\n",
       "      <th>StoreType</th>\n",
       "      <th>...</th>\n",
       "      <th>DayOfWeek</th>\n",
       "      <th>Month</th>\n",
       "      <th>Day</th>\n",
       "      <th>Year</th>\n",
       "      <th>WeekOfYear</th>\n",
       "      <th>CompetitionOpen</th>\n",
       "      <th>PromoOpen</th>\n",
       "      <th>IsPromoMonth</th>\n",
       "      <th>IsPromoNextMonth</th>\n",
       "      <th>WasPromoLastMonth</th>\n",
       "    </tr>\n",
       "  </thead>\n",
       "  <tbody>\n",
       "    <tr>\n",
       "      <th>162466</th>\n",
       "      <td>217</td>\n",
       "      <td>3150</td>\n",
       "      <td>0</td>\n",
       "      <td>0</td>\n",
       "      <td>0</td>\n",
       "      <td>0</td>\n",
       "      <td>0</td>\n",
       "      <td>0</td>\n",
       "      <td>0</td>\n",
       "      <td>3</td>\n",
       "      <td>...</td>\n",
       "      <td>2</td>\n",
       "      <td>1</td>\n",
       "      <td>29</td>\n",
       "      <td>2014</td>\n",
       "      <td>5</td>\n",
       "      <td>24169</td>\n",
       "      <td>24169.25</td>\n",
       "      <td>0</td>\n",
       "      <td>0</td>\n",
       "      <td>0</td>\n",
       "    </tr>\n",
       "    <tr>\n",
       "      <th>639517</th>\n",
       "      <td>846</td>\n",
       "      <td>8860</td>\n",
       "      <td>0</td>\n",
       "      <td>1</td>\n",
       "      <td>0</td>\n",
       "      <td>4</td>\n",
       "      <td>2004</td>\n",
       "      <td>37</td>\n",
       "      <td>2009</td>\n",
       "      <td>1</td>\n",
       "      <td>...</td>\n",
       "      <td>5</td>\n",
       "      <td>1</td>\n",
       "      <td>5</td>\n",
       "      <td>2013</td>\n",
       "      <td>1</td>\n",
       "      <td>105</td>\n",
       "      <td>39.00</td>\n",
       "      <td>1</td>\n",
       "      <td>0</td>\n",
       "      <td>0</td>\n",
       "    </tr>\n",
       "    <tr>\n",
       "      <th>75487</th>\n",
       "      <td>100</td>\n",
       "      <td>17930</td>\n",
       "      <td>0</td>\n",
       "      <td>0</td>\n",
       "      <td>0</td>\n",
       "      <td>0</td>\n",
       "      <td>0</td>\n",
       "      <td>0</td>\n",
       "      <td>0</td>\n",
       "      <td>4</td>\n",
       "      <td>...</td>\n",
       "      <td>0</td>\n",
       "      <td>5</td>\n",
       "      <td>6</td>\n",
       "      <td>2013</td>\n",
       "      <td>19</td>\n",
       "      <td>24161</td>\n",
       "      <td>24160.75</td>\n",
       "      <td>0</td>\n",
       "      <td>0</td>\n",
       "      <td>0</td>\n",
       "    </tr>\n",
       "  </tbody>\n",
       "</table>\n",
       "<p>3 rows × 22 columns</p>\n",
       "</div>"
      ],
      "text/plain": [
       "        Store  CompetitionDistance  Promo  Promo2  SchoolHoliday  \\\n",
       "162466    217                 3150      0       0              0   \n",
       "639517    846                 8860      0       1              0   \n",
       "75487     100                17930      0       0              0   \n",
       "\n",
       "        CompetitionOpenSinceMonth  CompetitionOpenSinceYear  Promo2SinceWeek  \\\n",
       "162466                          0                         0                0   \n",
       "639517                          4                      2004               37   \n",
       "75487                           0                         0                0   \n",
       "\n",
       "        Promo2SinceYear  StoreType        ...          DayOfWeek  Month  Day  \\\n",
       "162466                0          3        ...                  2      1   29   \n",
       "639517             2009          1        ...                  5      1    5   \n",
       "75487                 0          4        ...                  0      5    6   \n",
       "\n",
       "        Year  WeekOfYear  CompetitionOpen  PromoOpen  IsPromoMonth  \\\n",
       "162466  2014           5            24169   24169.25             0   \n",
       "639517  2013           1              105      39.00             1   \n",
       "75487   2013          19            24161   24160.75             0   \n",
       "\n",
       "        IsPromoNextMonth  WasPromoLastMonth  \n",
       "162466                 0                  0  \n",
       "639517                 0                  0  \n",
       "75487                  0                  0  \n",
       "\n",
       "[3 rows x 22 columns]"
      ]
     },
     "execution_count": 20,
     "metadata": {},
     "output_type": "execute_result"
    }
   ],
   "source": [
    "train[features].sample(3)"
   ]
  },
  {
   "cell_type": "code",
   "execution_count": 21,
   "metadata": {
    "collapsed": false
   },
   "outputs": [],
   "source": [
    "X = train[features].values\n",
    "y = np.log1p(train.Sales)\n",
    "test = test[features].values"
   ]
  },
  {
   "cell_type": "code",
   "execution_count": 22,
   "metadata": {
    "collapsed": false
   },
   "outputs": [],
   "source": [
    "np.save(open('../data/X_pickle','wb'), X)\n",
    "np.save(open('../data/y_pickle','wb'), y)\n",
    "np.save(open('../data/test_pickle','wb'), test)\n",
    "np.save(open('../data/features_pickle','wb'), features)"
   ]
  },
  {
   "cell_type": "code",
   "execution_count": null,
   "metadata": {
    "collapsed": true
   },
   "outputs": [],
   "source": []
  }
 ],
 "metadata": {
  "kernelspec": {
   "display_name": "Python 2",
   "language": "python",
   "name": "python2"
  },
  "language_info": {
   "codemirror_mode": {
    "name": "ipython",
    "version": 2
   },
   "file_extension": ".py",
   "mimetype": "text/x-python",
   "name": "python",
   "nbconvert_exporter": "python",
   "pygments_lexer": "ipython2",
   "version": "2.7.5"
  }
 },
 "nbformat": 4,
 "nbformat_minor": 0
}
