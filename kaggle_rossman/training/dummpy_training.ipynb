{
 "cells": [
  {
   "cell_type": "code",
   "execution_count": 1,
   "metadata": {
    "collapsed": true
   },
   "outputs": [],
   "source": [
    "import numpy as np\n",
    "import pandas as pd\n",
    "import matplotlib.pyplot as plt\n",
    "%matplotlib inline\n",
    "from sklearn.ensemble import RandomForestRegressor\n",
    "from sklearn import cross_validation\n",
    "from sklearn.tree import DecisionTreeRegressor\n",
    "from sklearn.ensemble import AdaBoostRegressor"
   ]
  },
  {
   "cell_type": "code",
   "execution_count": 2,
   "metadata": {
    "collapsed": false
   },
   "outputs": [
    {
     "name": "stdout",
     "output_type": "stream",
     "text": [
      "reducing to: 1017209 rows\n"
     ]
    },
    {
     "name": "stderr",
     "output_type": "stream",
     "text": [
      "/Users/jason.xie/anaconda/lib/python2.7/site-packages/IPython/core/interactiveshell.py:2902: DtypeWarning: Columns (7) have mixed types. Specify dtype option on import or set low_memory=False.\n",
      "  interactivity=interactivity, compiler=compiler, result=result)\n"
     ]
    }
   ],
   "source": [
    "sales = pd.read_csv(\"../data/train.csv\")\n",
    "sales = sales.sample(frac=0.1)\n",
    "stores = pd.read_csv(\"../data/store.csv\")\n",
    "sales = sales.merge(stores, on='Store', how='left')\n",
    "\n",
    "sales['Date'] = pd.to_datetime(sales.Date)\n",
    "sales['Year'] = sales.Date.dt.year\n",
    "sales['Month'] = sales.Date.dt.month\n",
    "sales['Day'] = sales.Date.dt.day\n",
    "sales['DayOfWeek'] = sales.Date.dt.dayofweek\n",
    "sales['WeekOfYear'] = sales.Date.dt.weekofyear\n",
    "\n",
    "monthMapper = {'Jan': 1, 'Feb':2, 'Mar':3, 'Apr':4, 'May':5, 'Jun':6, \\\n",
    "             'Jul':7, 'Aug':8, 'Sept':9, 'Oct':10, 'Nov':11, 'Dec':12}\n",
    "\n",
    "print \"reducing to: \" + str(sales.shape[0]) + \" rows\""
   ]
  },
  {
   "cell_type": "code",
   "execution_count": 3,
   "metadata": {
    "collapsed": false
   },
   "outputs": [],
   "source": [
    "sales = pd.concat([sales, pd.get_dummies(sales['StateHoliday'], prefix='StateHoliday').iloc[:,1:]], axis=1)\n",
    "sales = pd.concat([sales, pd.get_dummies(sales['Assortment'], prefix='Assortment')], axis=1)\n",
    "sales = pd.concat([sales, pd.get_dummies(sales['StoreType'], prefix='StoreType')], axis=1)\n",
    "sales = pd.concat([sales, pd.get_dummies(sales['Year'], prefix='Year')], axis=1)\n",
    "sales = pd.concat([sales, pd.get_dummies(sales['Month'], prefix='Month')], axis=1)\n",
    "sales = pd.concat([sales, pd.get_dummies(sales['Day'], prefix='Day')], axis=1)\n",
    "sales = pd.concat([sales, pd.get_dummies(sales['DayOfWeek'], prefix='DayOfWeek')], axis=1)\n",
    "sales = pd.concat([sales, pd.get_dummies(sales['WeekOfYear'], prefix='WeekOfYear')], axis=1)"
   ]
  },
  {
   "cell_type": "code",
   "execution_count": 4,
   "metadata": {
    "collapsed": false
   },
   "outputs": [],
   "source": [
    "sales = sales.drop(['PromoInterval', 'Date', 'Customers', 'StateHoliday', 'Assortment', 'Year', 'Month', 'Day', 'DayOfWeek', 'WeekOfYear', 'StoreType'], axis=1)"
   ]
  },
  {
   "cell_type": "code",
   "execution_count": 5,
   "metadata": {
    "collapsed": false
   },
   "outputs": [],
   "source": [
    "X, y = sales.drop(['Sales'], axis=1), sales['Sales']\n",
    "X['CompetitionDistance'] = X['CompetitionDistance'].fillna(-1)\n",
    "X['CompetitionOpenSinceMonth'] = X['CompetitionOpenSinceMonth'].fillna(-1)\n",
    "X['CompetitionOpenSinceYear'] = X['CompetitionOpenSinceYear'].fillna(-1)\n",
    "X['Promo2SinceWeek'] = X['Promo2SinceWeek'].fillna(-1)\n",
    "X['Promo2SinceYear'] = X['Promo2SinceYear'].fillna(-1)"
   ]
  },
  {
   "cell_type": "code",
   "execution_count": 6,
   "metadata": {
    "collapsed": false,
    "scrolled": true
   },
   "outputs": [
    {
     "name": "stdout",
     "output_type": "stream",
     "text": [
      "eval has: 41088 rows\n"
     ]
    }
   ],
   "source": [
    "evals = pd.read_csv(\"../data/test.csv\")\n",
    "evals = evals.merge(stores, on='Store', how='left')\n",
    "print \"eval has: \" + str(evals.shape[0]) + \" rows\"\n",
    "evals['Date'] = pd.to_datetime(evals.Date)\n",
    "evals['Year'] = evals.Date.dt.year\n",
    "evals['Month'] = evals.Date.dt.month\n",
    "evals['Day'] = evals.Date.dt.day\n",
    "evals['DayOfWeek'] = evals.Date.dt.dayofweek\n",
    "evals['WeekOfYear'] = evals.Date.dt.weekofyear\n",
    "evals = pd.concat([evals, pd.get_dummies(evals['StateHoliday'], prefix='StateHoliday')], axis=1)\n",
    "evals = pd.concat([evals, pd.get_dummies(evals['Assortment'], prefix='Assortment')], axis=1)\n",
    "evals = pd.concat([evals, pd.get_dummies(evals['StoreType'], prefix='StoreType')], axis=1)\n",
    "evals = pd.concat([evals, pd.get_dummies(evals['Year'], prefix='Year')], axis=1)\n",
    "evals = pd.concat([evals, pd.get_dummies(evals['Month'], prefix='Month')], axis=1)\n",
    "evals = pd.concat([evals, pd.get_dummies(evals['Day'], prefix='Day')], axis=1)\n",
    "evals = pd.concat([evals, pd.get_dummies(evals['DayOfWeek'], prefix='DayOfWeek')], axis=1)\n",
    "evals = pd.concat([evals, pd.get_dummies(evals['WeekOfYear'], prefix='WeekOfYear')], axis=1)\n",
    "evals = evals.drop(['PromoInterval', 'Date', 'StateHoliday', 'Assortment', 'Year', 'Month', 'Day', 'DayOfWeek', 'WeekOfYear', 'StoreType'], axis=1)\n",
    "\n",
    "for column in X.columns:\n",
    "    if column not in evals.columns:\n",
    "        evals[column] = 0\n",
    "X_eval = evals\n",
    "for column in X_eval.columns:\n",
    "    X_eval[column] = X_eval[column].fillna(-1)"
   ]
  },
  {
   "cell_type": "code",
   "execution_count": 7,
   "metadata": {
    "collapsed": false
   },
   "outputs": [],
   "source": [
    "names = X.columns"
   ]
  },
  {
   "cell_type": "code",
   "execution_count": 8,
   "metadata": {
    "collapsed": false
   },
   "outputs": [
    {
     "data": {
      "text/html": [
       "<div>\n",
       "<table border=\"1\" class=\"dataframe\">\n",
       "  <thead>\n",
       "    <tr style=\"text-align: right;\">\n",
       "      <th></th>\n",
       "      <th>Store</th>\n",
       "      <th>Open</th>\n",
       "      <th>Promo</th>\n",
       "      <th>SchoolHoliday</th>\n",
       "      <th>CompetitionDistance</th>\n",
       "      <th>CompetitionOpenSinceMonth</th>\n",
       "      <th>CompetitionOpenSinceYear</th>\n",
       "      <th>Promo2</th>\n",
       "      <th>Promo2SinceWeek</th>\n",
       "      <th>Promo2SinceYear</th>\n",
       "      <th>...</th>\n",
       "      <th>WeekOfYear_43</th>\n",
       "      <th>WeekOfYear_44</th>\n",
       "      <th>WeekOfYear_45</th>\n",
       "      <th>WeekOfYear_46</th>\n",
       "      <th>WeekOfYear_47</th>\n",
       "      <th>WeekOfYear_48</th>\n",
       "      <th>WeekOfYear_49</th>\n",
       "      <th>WeekOfYear_50</th>\n",
       "      <th>WeekOfYear_51</th>\n",
       "      <th>WeekOfYear_52</th>\n",
       "    </tr>\n",
       "  </thead>\n",
       "  <tbody>\n",
       "    <tr>\n",
       "      <th>463799</th>\n",
       "      <td>745</td>\n",
       "      <td>1</td>\n",
       "      <td>0</td>\n",
       "      <td>0</td>\n",
       "      <td>17650</td>\n",
       "      <td>11</td>\n",
       "      <td>2013</td>\n",
       "      <td>1</td>\n",
       "      <td>37</td>\n",
       "      <td>2009</td>\n",
       "      <td>...</td>\n",
       "      <td>0</td>\n",
       "      <td>0</td>\n",
       "      <td>0</td>\n",
       "      <td>0</td>\n",
       "      <td>0</td>\n",
       "      <td>0</td>\n",
       "      <td>0</td>\n",
       "      <td>0</td>\n",
       "      <td>0</td>\n",
       "      <td>0</td>\n",
       "    </tr>\n",
       "    <tr>\n",
       "      <th>587625</th>\n",
       "      <td>806</td>\n",
       "      <td>1</td>\n",
       "      <td>1</td>\n",
       "      <td>0</td>\n",
       "      <td>260</td>\n",
       "      <td>-1</td>\n",
       "      <td>-1</td>\n",
       "      <td>1</td>\n",
       "      <td>44</td>\n",
       "      <td>2010</td>\n",
       "      <td>...</td>\n",
       "      <td>0</td>\n",
       "      <td>0</td>\n",
       "      <td>0</td>\n",
       "      <td>0</td>\n",
       "      <td>0</td>\n",
       "      <td>0</td>\n",
       "      <td>0</td>\n",
       "      <td>0</td>\n",
       "      <td>0</td>\n",
       "      <td>0</td>\n",
       "    </tr>\n",
       "    <tr>\n",
       "      <th>290036</th>\n",
       "      <td>433</td>\n",
       "      <td>1</td>\n",
       "      <td>1</td>\n",
       "      <td>0</td>\n",
       "      <td>30030</td>\n",
       "      <td>11</td>\n",
       "      <td>2010</td>\n",
       "      <td>0</td>\n",
       "      <td>-1</td>\n",
       "      <td>-1</td>\n",
       "      <td>...</td>\n",
       "      <td>0</td>\n",
       "      <td>0</td>\n",
       "      <td>1</td>\n",
       "      <td>0</td>\n",
       "      <td>0</td>\n",
       "      <td>0</td>\n",
       "      <td>0</td>\n",
       "      <td>0</td>\n",
       "      <td>0</td>\n",
       "      <td>0</td>\n",
       "    </tr>\n",
       "  </tbody>\n",
       "</table>\n",
       "<p>3 rows × 126 columns</p>\n",
       "</div>"
      ],
      "text/plain": [
       "        Store  Open  Promo  SchoolHoliday  CompetitionDistance  \\\n",
       "463799    745     1      0              0                17650   \n",
       "587625    806     1      1              0                  260   \n",
       "290036    433     1      1              0                30030   \n",
       "\n",
       "        CompetitionOpenSinceMonth  CompetitionOpenSinceYear  Promo2  \\\n",
       "463799                         11                      2013       1   \n",
       "587625                         -1                        -1       1   \n",
       "290036                         11                      2010       0   \n",
       "\n",
       "        Promo2SinceWeek  Promo2SinceYear      ...        WeekOfYear_43  \\\n",
       "463799               37             2009      ...                    0   \n",
       "587625               44             2010      ...                    0   \n",
       "290036               -1               -1      ...                    0   \n",
       "\n",
       "        WeekOfYear_44  WeekOfYear_45  WeekOfYear_46  WeekOfYear_47  \\\n",
       "463799              0              0              0              0   \n",
       "587625              0              0              0              0   \n",
       "290036              0              1              0              0   \n",
       "\n",
       "        WeekOfYear_48  WeekOfYear_49  WeekOfYear_50  WeekOfYear_51  \\\n",
       "463799              0              0              0              0   \n",
       "587625              0              0              0              0   \n",
       "290036              0              0              0              0   \n",
       "\n",
       "        WeekOfYear_52  \n",
       "463799              0  \n",
       "587625              0  \n",
       "290036              0  \n",
       "\n",
       "[3 rows x 126 columns]"
      ]
     },
     "execution_count": 8,
     "metadata": {},
     "output_type": "execute_result"
    }
   ],
   "source": [
    "X.sample(3)"
   ]
  },
  {
   "cell_type": "code",
   "execution_count": 9,
   "metadata": {
    "collapsed": false
   },
   "outputs": [
    {
     "data": {
      "text/plain": [
       "597834       0\n",
       "966219    5314\n",
       "295048    9128\n",
       "Name: Sales, dtype: int64"
      ]
     },
     "execution_count": 9,
     "metadata": {},
     "output_type": "execute_result"
    }
   ],
   "source": [
    "y.sample(3)"
   ]
  },
  {
   "cell_type": "code",
   "execution_count": 10,
   "metadata": {
    "collapsed": false
   },
   "outputs": [],
   "source": [
    "X, y = X.values, y.values\n",
    "X, X_test, y, y_test = cross_validation.train_test_split(X, y, test_size=0.1)"
   ]
  },
  {
   "cell_type": "code",
   "execution_count": 11,
   "metadata": {
    "collapsed": true
   },
   "outputs": [],
   "source": [
    "# note the variable 'Open' probably have 0 importance because the # of Customers already encapsulates the 'Open' information"
   ]
  },
  {
   "cell_type": "code",
   "execution_count": 12,
   "metadata": {
    "collapsed": true
   },
   "outputs": [],
   "source": [
    "adaboost = AdaBoostRegressor(DecisionTreeRegressor(max_depth=15), n_estimators=50, loss='linear', learning_rate=1)"
   ]
  },
  {
   "cell_type": "code",
   "execution_count": null,
   "metadata": {
    "collapsed": false
   },
   "outputs": [],
   "source": [
    "adaboost.fit(X, y)"
   ]
  },
  {
   "cell_type": "code",
   "execution_count": null,
   "metadata": {
    "collapsed": false
   },
   "outputs": [],
   "source": [
    "adaboost.score(X_test, y_test)"
   ]
  },
  {
   "cell_type": "code",
   "execution_count": null,
   "metadata": {
    "collapsed": false
   },
   "outputs": [],
   "source": [
    "print sorted(zip(map(lambda x: round(x, 4), adaboost.feature_importances_), names), \n",
    "             reverse=True)"
   ]
  },
  {
   "cell_type": "code",
   "execution_count": null,
   "metadata": {
    "collapsed": false
   },
   "outputs": [],
   "source": [
    "# X_eval = X_eval.sample(1)\n",
    "X_input = X_eval.drop(['Id'], axis=1).values\n",
    "f = open('../data/submission.csv', 'wb')\n",
    "f.write('\"Id\",\"Sales\"\\n')\n",
    "for i in range(0, X_input.shape[0]):\n",
    "    f.write(str(i + 1))\n",
    "    f.write(\",\")\n",
    "    f.write(str(int(adaboost.predict(X_input[i])[0])))\n",
    "    if i != X_input.shape[0] - 1:\n",
    "        f.write(\"\\n\")\n",
    "f.close()"
   ]
  },
  {
   "cell_type": "code",
   "execution_count": null,
   "metadata": {
    "collapsed": true
   },
   "outputs": [],
   "source": []
  }
 ],
 "metadata": {
  "kernelspec": {
   "display_name": "Python 2",
   "language": "python",
   "name": "python2"
  },
  "language_info": {
   "codemirror_mode": {
    "name": "ipython",
    "version": 2
   },
   "file_extension": ".py",
   "mimetype": "text/x-python",
   "name": "python",
   "nbconvert_exporter": "python",
   "pygments_lexer": "ipython2",
   "version": "2.7.10"
  }
 },
 "nbformat": 4,
 "nbformat_minor": 0
}
